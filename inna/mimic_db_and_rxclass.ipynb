{
 "cells": [
  {
   "cell_type": "code",
   "execution_count": null,
   "metadata": {},
   "outputs": [],
   "source": [
    "#=============================================================================================#\n",
    "#Name: mimic_db_and_rxclass.pynb\n",
    "#Programmer: Inna Cohen\n",
    "#Date Modified: December 12, 2022\n",
    "#Purpose: Thise code creates the mimic.db file and utilizes the RxClass API\n",
    "#=============================================================================================#"
   ]
  },
  {
   "cell_type": "code",
   "execution_count": null,
   "metadata": {},
   "outputs": [],
   "source": [
    "import pandas as pd\n",
    "import sqlite3\n",
    "from sqlite3 import Error\n",
    "import requests\n",
    "from IPython.display import display"
   ]
  },
  {
   "cell_type": "code",
   "execution_count": null,
   "metadata": {},
   "outputs": [],
   "source": [
    "\n",
    "def get_drug_name(classId, relaSource):\n",
    "    my_url = 'https://rxnav.nlm.nih.gov/REST/rxclass/classMembers.json?classId=' + classId + '&relaSource=' + relaSource\n",
    "    r = requests.get(url = my_url)\n",
    "    data = r.json()\n",
    "    terms = data['drugMemberGroup']['drugMember']\n",
    "    lst = []\n",
    "\n",
    "    for n, term in enumerate(terms):\n",
    "        rxcui = terms[n]['minConcept']['name']\n",
    "        lst.append(rxcui)\n",
    "    \n",
    "    return lst\n",
    "\n",
    "\n",
    "\n",
    "def View(df, rows=False):\n",
    "    '''Views all the columns of a dataframe '''\n",
    "    if rows==True:\n",
    "        with pd.option_context(\"display.max_columns\", None, \"display.max_rows\", None):\n",
    "            display(df)\n",
    "    else:\n",
    "        with pd.option_context(\"display.max_columns\", None):\n",
    "            display(df)"
   ]
  },
  {
   "cell_type": "code",
   "execution_count": null,
   "metadata": {},
   "outputs": [],
   "source": [
    "opiods = get_drug_name('N02A','ATC')\n",
    "benzos = get_drug_name('D001569','DAILYMED')"
   ]
  },
  {
   "cell_type": "code",
   "execution_count": null,
   "metadata": {},
   "outputs": [],
   "source": [
    "conn = sqlite3.connect('mimic.db')\n",
    "cursor = conn.cursor()"
   ]
  },
  {
   "cell_type": "markdown",
   "metadata": {},
   "source": [
    "### Creating tables"
   ]
  },
  {
   "cell_type": "code",
   "execution_count": null,
   "metadata": {},
   "outputs": [],
   "source": [
    "cursor.execute(\"DROP TABLE IF EXISTS Patients\")\n",
    "cursor.execute(\"DROP TABLE IF EXISTS Admissions\")\n",
    "cursor.execute(\"DROP TABLE IF EXISTS Diagnoses_icd\")\n",
    "cursor.execute(\"DROP TABLE IF EXISTS D_icd_diagnoses\")\n",
    "cursor.execute(\"DROP TABLE IF EXISTS Prescriptions\")\n",
    "cursor.execute(\"DROP TABLE IF EXISTS Drugs\")\n",
    "cursor.execute(\"DROP TABLE IF EXISTS Labevents\")\n",
    "\n",
    "\n",
    "\n",
    "sql ='''CREATE TABLE Patients (\n",
    "    row_id int  NOT NULL,\n",
    "    subject_id int  NOT NULL,\n",
    "    gender varchar(5)  NOT NULL,\n",
    "    dob datetime  NOT NULL,\n",
    "    dod datetime  NOT NULL,\n",
    "    dod_hosp datetime  NULL,\n",
    "    dod_ssn datetime  NULL,\n",
    "    expire_flag varchar(5)  NOT NULL,\n",
    "    PRIMARY KEY (subject_id)\n",
    "  );'''\n",
    "\n",
    "cursor.execute(sql)\n",
    "\n",
    "\n",
    "sql ='''CREATE TABLE Admissions (\n",
    "    row_id int  NOT NULL,\n",
    "    subject_id int  NOT NULL,\n",
    "    hadm_id int  NOT NULL,\n",
    "    admittime datetime  NOT NULL,\n",
    "    dischtime datetime  NOT NULL,\n",
    "    deathtime datetime   NULL,\n",
    "    admission_type varchar(50)  NOT NULL,\n",
    "    admission_location varchar(50)  NOT NULL,\n",
    "    discharge_location varchar(50)  NOT NULL,\n",
    "    insurance varchar(255)  NOT NULL,\n",
    "    language varchar(10)   NULL,\n",
    "    religion varchar(50)   NULL,\n",
    "    marital_status varchar(50)   NULL,\n",
    "    ethnicity varchar(200)  NOT NULL,\n",
    "    edregtime datetime   NULL,\n",
    "    edouttime datetime   NULL,\n",
    "    diagnosis varchar(300)  NOT NULL,\n",
    "    hospital_expire_flag int  NOT NULL,\n",
    "    has_chartevents_data int  NOT NULL,\n",
    "    PRIMARY KEY (hadm_id),\n",
    "    FOREIGN KEY (subject_id) REFERENCES Patients(subject_id)\n",
    "  );'''\n",
    "\n",
    "cursor.execute(sql)\n",
    "\n",
    "sql ='''CREATE TABLE D_icd_diagnoses (\n",
    "    row_id int  NOT NULL,\n",
    "    icd9_code varchar(10) NOT NULL,\n",
    "    short_title varchar(50) NOT NULL,\n",
    "    long_title varchar(300) NOT NULL,\n",
    "    PRIMARY KEY (icd9_code) \n",
    "  );'''\n",
    "cursor.execute(sql)\n",
    "\n",
    "\n",
    "sql ='''CREATE TABLE Diagnoses_icd (\n",
    "    row_id int  NOT NULL,\n",
    "    subject_id int  NOT NULL,\n",
    "    hadm_id int  NOT NULL,\n",
    "     seq_num int NOT NULL,\n",
    "     icd9_code varchar(10) NOT NULL,\n",
    "    PRIMARY KEY (hadm_id),\n",
    "    FOREIGN KEY (icd9_code) REFERENCES D_icd_diagnoses(icd9_code)\n",
    "  );'''\n",
    "cursor.execute(sql)\n",
    "\n",
    "\n",
    " #insert code to create Prescriptions table\n",
    "sql ='''CREATE TABLE Prescriptions (\n",
    "    row_id int  NOT NULL,\n",
    "    subject_id int  NOT NULL,\n",
    "    hadm_id int  NOT NULL,\n",
    "    startdate datetime NULL,\n",
    "    enddate datetime NULL,\n",
    "    drug_type varchar(50) NULL,\n",
    "    drug varchar(300) NULL,\n",
    "    drug_name_poe varchar(300) NULL,\n",
    "    drug_name_generic varchar(300) NULL,\n",
    "    formulary_drug_cd varchar(300) NULL,\n",
    "    gsn int NULL,\n",
    "    ndc real NULL,\n",
    "    prod_strength varchar(300) NULL,\n",
    "    dose_val_rx varchar(50) NULL,\n",
    "    dose_unit_rx varchar(50) NULL,\n",
    "    form_val_disp varchar(50) NULL,\n",
    "    form_unit_disp varchar(50) NULL,\n",
    "    route varchar(50) NULL,\n",
    "    FOREIGN KEY (hadm_id) REFERENCES Diagnoses_icd(hadm_id),\n",
    "    FOREIGN KEY (subject_id) REFERENCES Patients(subject_id)\n",
    "  );'''\n",
    "cursor.execute(sql)\n",
    "\n",
    "sql ='''CREATE TABLE Labevents (\n",
    "    row_id int  NOT NULL,\n",
    "    subject_id int  NOT NULL,\n",
    "    hadm_id int  NOT NULL,\n",
    "    itemid NULL,\n",
    "    chartime datetime NULL,\n",
    "    value varchar(200) NULL, \n",
    "    valuenum float8 NULL,\n",
    "    valueuom varchar(20) NULL,\n",
    "    flag varchar(200) NULL,\n",
    "    FOREIGN KEY (hadm_id) REFERENCES Diagnoses_icd(hadm_id),\n",
    "    FOREIGN KEY (subject_id) REFERENCES Patients(subject_id)\n",
    "  );'''\n",
    "cursor.execute(sql)\n",
    "\n",
    "\n",
    "print(\"Table(s) created successfully........\")\n",
    "conn.commit()"
   ]
  },
  {
   "cell_type": "markdown",
   "metadata": {},
   "source": [
    "### Data Cleaning "
   ]
  },
  {
   "cell_type": "code",
   "execution_count": null,
   "metadata": {},
   "outputs": [],
   "source": [
    "patients = pd.read_csv('../../mimic-iii-clinical-database-1.4/PATIENTS.csv.gz', compression='gzip').dropna()"
   ]
  },
  {
   "cell_type": "code",
   "execution_count": null,
   "metadata": {},
   "outputs": [],
   "source": [
    "admissions = pd.read_csv('../../mimic-iii-clinical-database-1.4/ADMISSIONS.csv.gz', compression='gzip').dropna()"
   ]
  },
  {
   "cell_type": "code",
   "execution_count": null,
   "metadata": {},
   "outputs": [],
   "source": [
    "d_icd_diagnoses = pd.read_csv('../../mimic-iii-clinical-database-1.4/D_ICD_DIAGNOSES.csv.gz', compression='gzip').dropna()"
   ]
  },
  {
   "cell_type": "code",
   "execution_count": null,
   "metadata": {},
   "outputs": [],
   "source": [
    "diagnoses_icd = pd.read_csv('../../mimic-iii-clinical-database-1.4/DIAGNOSES_ICD.csv.gz', compression='gzip').dropna()"
   ]
  },
  {
   "cell_type": "code",
   "execution_count": null,
   "metadata": {},
   "outputs": [],
   "source": [
    "prescriptions = pd.read_csv('../../mimic-iii-clinical-database-1.4/PRESCRIPTIONS.csv.gz', compression='gzip', low_memory=False).dropna()"
   ]
  },
  {
   "cell_type": "code",
   "execution_count": null,
   "metadata": {},
   "outputs": [],
   "source": [
    "labevents = pd.read_csv('../../mimic-iii-clinical-database-1.4/LABEVENTS.csv.gz', compression='gzip', low_memory=False).dropna()"
   ]
  },
  {
   "cell_type": "code",
   "execution_count": null,
   "metadata": {},
   "outputs": [],
   "source": [
    "def find_drug(drug):\n",
    "    return prescriptions.DRUG[prescriptions.DRUG.str.contains(drug, case=False, regex=True)].value_counts().to_frame()"
   ]
  },
  {
   "cell_type": "code",
   "execution_count": null,
   "metadata": {},
   "outputs": [],
   "source": [
    "def clean_drug(drug):\n",
    "    return prescriptions.DRUG[prescriptions.DRUG.str.replace(drug, drug, case=False, regex=True)]"
   ]
  },
  {
   "cell_type": "code",
   "execution_count": null,
   "metadata": {},
   "outputs": [],
   "source": [
    "opiod_data = []\n",
    "for opiod in opiods:\n",
    "    data = find_drug(opiod)\n",
    "    data['name'] = opiod\n",
    "    data['class'] = 'opiods'\n",
    "    opiod_data.append(data)\n",
    "opiod_data = pd.concat(opiod_data)"
   ]
  },
  {
   "cell_type": "code",
   "execution_count": null,
   "metadata": {},
   "outputs": [],
   "source": [
    "benzo_data = []\n",
    "for benzo in benzos:\n",
    "    data = find_drug(benzo)\n",
    "    data['name'] = benzo\n",
    "    data['class'] = 'benzodiazepines'\n",
    "    benzo_data.append(data)\n",
    "benzo_data = pd.concat(benzo_data)"
   ]
  },
  {
   "cell_type": "code",
   "execution_count": null,
   "metadata": {},
   "outputs": [],
   "source": [
    "opiod_data.reset_index(inplace=True)\n",
    "benzo_data.reset_index(inplace=True)"
   ]
  },
  {
   "cell_type": "code",
   "execution_count": null,
   "metadata": {},
   "outputs": [],
   "source": [
    "drug_data = pd.concat([opiod_data, benzo_data], ignore_index=True)"
   ]
  },
  {
   "cell_type": "code",
   "execution_count": null,
   "metadata": {},
   "outputs": [],
   "source": [
    "drug_data = drug_data.drop([\"DRUG\"],axis=1)"
   ]
  },
  {
   "cell_type": "code",
   "execution_count": null,
   "metadata": {},
   "outputs": [],
   "source": [
    "drug_data.columns = ['drug_id','name','class']"
   ]
  },
  {
   "cell_type": "code",
   "execution_count": null,
   "metadata": {},
   "outputs": [],
   "source": [
    "drug_data.to_csv(\"drug_data.csv\", index=False)"
   ]
  },
  {
   "cell_type": "code",
   "execution_count": null,
   "metadata": {},
   "outputs": [],
   "source": [
    "drug_data = pd.read_csv(\"drug_data.csv\")"
   ]
  },
  {
   "cell_type": "code",
   "execution_count": null,
   "metadata": {},
   "outputs": [],
   "source": [
    "sql ='''CREATE TABLE Drugs (\n",
    "    drug_id varchar(300)  NOT NULL,\n",
    "    name varchar(300)  NOT NULL,\n",
    "    class varchar(300)  NOT NULL,\n",
    "    FOREIGN KEY (drug_id) REFERENCES Prescriptions(drug)\n",
    "  );'''\n",
    "cursor.execute(sql)"
   ]
  },
  {
   "cell_type": "markdown",
   "metadata": {},
   "source": [
    "###  Loading Cleaned Data into Database"
   ]
  },
  {
   "cell_type": "code",
   "execution_count": null,
   "metadata": {},
   "outputs": [],
   "source": [
    "patients.to_sql('Patients', conn, if_exists='replace', index = False)\n",
    "conn.commit()\n",
    "\n",
    "admissions.to_sql('Admissions', conn, if_exists='replace', index = False)\n",
    "conn.commit()\n",
    "\n",
    "d_icd_diagnoses.to_sql('D_icd_diagnoses', conn, if_exists='replace', index = False)\n",
    "conn.commit()\n",
    "\n",
    "diagnoses_icd.to_sql('Diagnoses_icd', conn, if_exists='replace', index = False)\n",
    "conn.commit()\n",
    "\n",
    "prescriptions.to_sql('Prescriptions', conn, if_exists='replace', index = False)\n",
    "conn.commit()\n",
    "\n",
    "drug_data.to_sql('Drugs', conn, if_exists='replace', index = False)\n",
    "conn.commit()"
   ]
  }
 ],
 "metadata": {
  "kernelspec": {
   "display_name": "Python 3.10.4 64-bit",
   "language": "python",
   "name": "python3"
  },
  "language_info": {
   "codemirror_mode": {
    "name": "ipython",
    "version": 3
   },
   "file_extension": ".py",
   "mimetype": "text/x-python",
   "name": "python",
   "nbconvert_exporter": "python",
   "pygments_lexer": "ipython3",
   "version": "3.10.4"
  },
  "orig_nbformat": 4,
  "vscode": {
   "interpreter": {
    "hash": "8b41becdef4899acfbbd1485a22892933050ba852a26e42b5361999e714c45e6"
   }
  }
 },
 "nbformat": 4,
 "nbformat_minor": 2
}
