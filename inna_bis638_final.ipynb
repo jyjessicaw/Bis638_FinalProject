{
 "cells": [
  {
   "cell_type": "code",
   "execution_count": 1,
   "metadata": {},
   "outputs": [],
   "source": [
    "import pandas as pd\n",
    "import sqlite3\n",
    "from sqlite3 import Error\n",
    "import requests\n",
    "from IPython.display import display"
   ]
  },
  {
   "cell_type": "code",
   "execution_count": 2,
   "metadata": {},
   "outputs": [],
   "source": [
    "\n",
    "def get_drug_name(classId, relaSource):\n",
    "    my_url = 'https://rxnav.nlm.nih.gov/REST/rxclass/classMembers.json?classId=' + classId + '&relaSource=' + relaSource\n",
    "\n",
    "    r = requests.get(url = my_url)\n",
    "    data = r.json()\n",
    "    terms = data['drugMemberGroup']['drugMember']\n",
    "    lst = []\n",
    "\n",
    "    for n, term in enumerate(terms):\n",
    "        rxcui = terms[n]['minConcept']['name']\n",
    "        lst.append(rxcui)\n",
    "    \n",
    "    return lst\n",
    "\n",
    "\n",
    "\n",
    "def View(df, rows=False):\n",
    "    '''Views all the columns of a dataframe '''\n",
    "    if rows==True:\n",
    "        with pd.option_context(\"display.max_columns\", None, \"display.max_rows\", None):\n",
    "            display(df)\n",
    "    else:\n",
    "        with pd.option_context(\"display.max_columns\", None):\n",
    "            display(df)"
   ]
  },
  {
   "cell_type": "code",
   "execution_count": 3,
   "metadata": {},
   "outputs": [],
   "source": [
    "opiods = get_drug_name('N02A','ATC')\n",
    "benzos = get_drug_name('D001569','DAILYMED')\n",
    "dihyds = get_drug_name('D004095','DAILYMED')"
   ]
  },
  {
   "cell_type": "code",
   "execution_count": 4,
   "metadata": {},
   "outputs": [],
   "source": [
    "conn = sqlite3.connect('mimic.db')\n",
    "cursor = conn.cursor()"
   ]
  },
  {
   "cell_type": "markdown",
   "metadata": {},
   "source": [
    "### Creating tables"
   ]
  },
  {
   "cell_type": "code",
   "execution_count": 5,
   "metadata": {},
   "outputs": [
    {
     "name": "stdout",
     "output_type": "stream",
     "text": [
      "Table(s) created successfully........\n"
     ]
    }
   ],
   "source": [
    "cursor.execute(\"DROP TABLE IF EXISTS Patients\")\n",
    "cursor.execute(\"DROP TABLE IF EXISTS Admissions\")\n",
    "cursor.execute(\"DROP TABLE IF EXISTS Diagnoses_icd\")\n",
    "cursor.execute(\"DROP TABLE IF EXISTS D_icd_diagnoses\")\n",
    "cursor.execute(\"DROP TABLE IF EXISTS Prescriptions\")\n",
    "\n",
    "\n",
    "sql ='''CREATE TABLE Patients (\n",
    "    row_id int  NOT NULL,\n",
    "    subject_id int  NOT NULL,\n",
    "    gender varchar(5)  NOT NULL,\n",
    "    dob datetime  NOT NULL,\n",
    "    dod datetime  NOT NULL,\n",
    "    dod_hosp datetime  NULL,\n",
    "    dod_ssn datetime  NULL,\n",
    "    expire_flag varchar(5)  NOT NULL,\n",
    "    PRIMARY KEY (subject_id)\n",
    "  );'''\n",
    "\n",
    "cursor.execute(sql)\n",
    "\n",
    "\n",
    "sql ='''CREATE TABLE Admissions (\n",
    "    row_id int  NOT NULL,\n",
    "    subject_id int  NOT NULL,\n",
    "    hadm_id int  NOT NULL,\n",
    "    admittime datetime  NOT NULL,\n",
    "    dischtime datetime  NOT NULL,\n",
    "    deathtime datetime   NULL,\n",
    "    admission_type varchar(50)  NOT NULL,\n",
    "    admission_location varchar(50)  NOT NULL,\n",
    "    discharge_location varchar(50)  NOT NULL,\n",
    "    insurance varchar(255)  NOT NULL,\n",
    "    language varchar(10)   NULL,\n",
    "    religion varchar(50)   NULL,\n",
    "    marital_status varchar(50)   NULL,\n",
    "    ethnicity varchar(200)  NOT NULL,\n",
    "    edregtime datetime   NULL,\n",
    "    edouttime datetime   NULL,\n",
    "    diagnosis varchar(300)  NOT NULL,\n",
    "    hospital_expire_flag int  NOT NULL,\n",
    "    has_chartevents_data int  NOT NULL,\n",
    "    PRIMARY KEY (hadm_id),\n",
    "    FOREIGN KEY (subject_id) REFERENCES Patients(subject_id)\n",
    "  );'''\n",
    "\n",
    "cursor.execute(sql)\n",
    "\n",
    "sql ='''CREATE TABLE D_icd_diagnoses (\n",
    "    row_id int  NOT NULL,\n",
    "    icd9_code varchar(10) NOT NULL,\n",
    "    short_title varchar(50) NOT NULL,\n",
    "    long_title varchar(300) NOT NULL,\n",
    "    PRIMARY KEY (icd9_code) \n",
    "  );'''\n",
    "cursor.execute(sql)\n",
    "\n",
    "\n",
    "sql ='''CREATE TABLE Diagnoses_icd (\n",
    "    row_id int  NOT NULL,\n",
    "    subject_id int  NOT NULL,\n",
    "    hadm_id int  NOT NULL,\n",
    "     seq_num int NOT NULL,\n",
    "     icd9_code varchar(10) NOT NULL,\n",
    "    PRIMARY KEY (hadm_id),\n",
    "    FOREIGN KEY (icd9_code) REFERENCES D_icd_diagnoses(icd9_code)\n",
    "  );'''\n",
    "cursor.execute(sql)\n",
    "\n",
    "\n",
    " #insert code to create Prescriptions table\n",
    "sql ='''CREATE TABLE Prescriptions (\n",
    "    row_id int  NOT NULL,\n",
    "    subject_id int  NOT NULL,\n",
    "    hadm_id int  NOT NULL,\n",
    "    startdate datetime NULL,\n",
    "    enddate datetime NULL,\n",
    "    drug_type varchar(50) NULL,\n",
    "    drug varchar(300) NULL,\n",
    "    drug_name_poe varchar(300) NULL,\n",
    "    drug_name_generic varchar(300) NULL,\n",
    "    formulary_drug_cd varchar(300) NULL,\n",
    "    gsn int NULL,\n",
    "    ndc real NULL,\n",
    "    prod_strength varchar(300) NULL,\n",
    "    dose_val_rx varchar(50) NULL,\n",
    "    dose_unit_rx varchar(50) NULL,\n",
    "    form_val_disp varchar(50) NULL,\n",
    "    form_unit_disp varchar(50) NULL,\n",
    "    route varchar(50) NULL,\n",
    "    FOREIGN KEY (hadm_id) REFERENCES Diagnoses_icd(hadm_id),\n",
    "    FOREIGN KEY (subject_id) REFERENCES Patients(subject_id)\n",
    "  );'''\n",
    "cursor.execute(sql)\n",
    "\n",
    "\n",
    "\n",
    "print(\"Table(s) created successfully........\")\n",
    "conn.commit()"
   ]
  },
  {
   "cell_type": "markdown",
   "metadata": {},
   "source": [
    "### Data Cleaning "
   ]
  },
  {
   "cell_type": "code",
   "execution_count": 6,
   "metadata": {},
   "outputs": [],
   "source": [
    "patients = pd.read_csv('../../mimic-iii-clinical-database-1.4/PATIENTS.csv.gz', compression='gzip')"
   ]
  },
  {
   "cell_type": "code",
   "execution_count": 7,
   "metadata": {},
   "outputs": [],
   "source": [
    "admissions = pd.read_csv('../../mimic-iii-clinical-database-1.4/ADMISSIONS.csv.gz', compression='gzip')"
   ]
  },
  {
   "cell_type": "code",
   "execution_count": 8,
   "metadata": {},
   "outputs": [],
   "source": [
    "d_icd_diagnoses = pd.read_csv('../../mimic-iii-clinical-database-1.4/D_ICD_DIAGNOSES.csv.gz', compression='gzip')"
   ]
  },
  {
   "cell_type": "code",
   "execution_count": 9,
   "metadata": {},
   "outputs": [],
   "source": [
    "diagnoses_icd = pd.read_csv('../../mimic-iii-clinical-database-1.4/DIAGNOSES_ICD.csv.gz', compression='gzip')"
   ]
  },
  {
   "cell_type": "code",
   "execution_count": 10,
   "metadata": {},
   "outputs": [],
   "source": [
    "prescriptions = pd.read_csv('../../mimic-iii-clinical-database-1.4/PRESCRIPTIONS.csv.gz', compression='gzip', low_memory=False)"
   ]
  },
  {
   "cell_type": "code",
   "execution_count": 11,
   "metadata": {},
   "outputs": [],
   "source": [
    "def find_drug(drug):\n",
    "    return prescriptions.DRUG[prescriptions.DRUG.str.contains(drug, case=False, regex=True)].value_counts().to_frame()"
   ]
  },
  {
   "cell_type": "code",
   "execution_count": 12,
   "metadata": {},
   "outputs": [],
   "source": [
    "def clean_drug(drug):\n",
    "    return prescriptions.DRUG[prescriptions.DRUG.str.replace(drug, drug, case=False, regex=True)]"
   ]
  },
  {
   "cell_type": "code",
   "execution_count": 13,
   "metadata": {},
   "outputs": [],
   "source": [
    "opiod_data = []\n",
    "for opiod in opiods:\n",
    "    data = find_drug(opiod)\n",
    "    data['name'] = opiod\n",
    "    data['class'] = 'opiods'\n",
    "    opiod_data.append(data)\n",
    "opiod_data = pd.concat(opiod_data)"
   ]
  },
  {
   "cell_type": "code",
   "execution_count": 14,
   "metadata": {},
   "outputs": [],
   "source": [
    "benzo_data = []\n",
    "for benzo in benzos:\n",
    "    data = find_drug(benzo)\n",
    "    data['name'] = benzo\n",
    "    data['class'] = 'benzodiazepines'\n",
    "    benzo_data.append(data)\n",
    "benzo_data = pd.concat(benzo_data)"
   ]
  },
  {
   "cell_type": "code",
   "execution_count": 15,
   "metadata": {},
   "outputs": [],
   "source": [
    "dihyd_data = []\n",
    "for dihyd in dihyds:\n",
    "    data = find_drug(dihyd)\n",
    "    data['name'] = dihyd\n",
    "    data['class'] = 'dihydropyridines'\n",
    "    dihyd_data.append(data)\n",
    "dihyd_data = pd.concat(dihyd_data)"
   ]
  },
  {
   "cell_type": "code",
   "execution_count": 16,
   "metadata": {},
   "outputs": [],
   "source": [
    "opiod_data.reset_index(inplace=True)\n",
    "benzo_data.reset_index(inplace=True)\n",
    "dihyd_data.reset_index(inplace=True)"
   ]
  },
  {
   "cell_type": "code",
   "execution_count": 17,
   "metadata": {},
   "outputs": [],
   "source": [
    "drug_data = pd.concat([opiod_data, benzo_data, dihyd_data], ignore_index=True)"
   ]
  },
  {
   "cell_type": "code",
   "execution_count": 18,
   "metadata": {},
   "outputs": [],
   "source": [
    "drug_data = drug_data.drop([\"DRUG\"],axis=1)"
   ]
  },
  {
   "cell_type": "code",
   "execution_count": 19,
   "metadata": {},
   "outputs": [],
   "source": [
    "drug_data.columns = ['drug_id','name','class']"
   ]
  },
  {
   "cell_type": "code",
   "execution_count": 20,
   "metadata": {},
   "outputs": [
    {
     "data": {
      "text/html": [
       "<div>\n",
       "<style scoped>\n",
       "    .dataframe tbody tr th:only-of-type {\n",
       "        vertical-align: middle;\n",
       "    }\n",
       "\n",
       "    .dataframe tbody tr th {\n",
       "        vertical-align: top;\n",
       "    }\n",
       "\n",
       "    .dataframe thead th {\n",
       "        text-align: right;\n",
       "    }\n",
       "</style>\n",
       "<table border=\"1\" class=\"dataframe\">\n",
       "  <thead>\n",
       "    <tr style=\"text-align: right;\">\n",
       "      <th></th>\n",
       "      <th>drug_id</th>\n",
       "      <th>name</th>\n",
       "      <th>class</th>\n",
       "    </tr>\n",
       "  </thead>\n",
       "  <tbody>\n",
       "    <tr>\n",
       "      <th>0</th>\n",
       "      <td>TraMADOL (Ultram)</td>\n",
       "      <td>tramadol</td>\n",
       "      <td>opiods</td>\n",
       "    </tr>\n",
       "    <tr>\n",
       "      <th>1</th>\n",
       "      <td>traMADOL</td>\n",
       "      <td>tramadol</td>\n",
       "      <td>opiods</td>\n",
       "    </tr>\n",
       "    <tr>\n",
       "      <th>2</th>\n",
       "      <td>Buprenorphine-Naloxone (8mg-2mg)</td>\n",
       "      <td>buprenorphine</td>\n",
       "      <td>opiods</td>\n",
       "    </tr>\n",
       "    <tr>\n",
       "      <th>3</th>\n",
       "      <td>Buprenorphine</td>\n",
       "      <td>buprenorphine</td>\n",
       "      <td>opiods</td>\n",
       "    </tr>\n",
       "    <tr>\n",
       "      <th>4</th>\n",
       "      <td>Buprenorphine HCl</td>\n",
       "      <td>buprenorphine</td>\n",
       "      <td>opiods</td>\n",
       "    </tr>\n",
       "    <tr>\n",
       "      <th>...</th>\n",
       "      <td>...</td>\n",
       "      <td>...</td>\n",
       "      <td>...</td>\n",
       "    </tr>\n",
       "    <tr>\n",
       "      <th>163</th>\n",
       "      <td>nifedipine</td>\n",
       "      <td>nifedipine</td>\n",
       "      <td>dihydropyridines</td>\n",
       "    </tr>\n",
       "    <tr>\n",
       "      <th>164</th>\n",
       "      <td>*NF* Nifedipine XL</td>\n",
       "      <td>nifedipine</td>\n",
       "      <td>dihydropyridines</td>\n",
       "    </tr>\n",
       "    <tr>\n",
       "      <th>165</th>\n",
       "      <td>Nifedipine (Bulk)</td>\n",
       "      <td>nifedipine</td>\n",
       "      <td>dihydropyridines</td>\n",
       "    </tr>\n",
       "    <tr>\n",
       "      <th>166</th>\n",
       "      <td>Nimodipine</td>\n",
       "      <td>nimodipine</td>\n",
       "      <td>dihydropyridines</td>\n",
       "    </tr>\n",
       "    <tr>\n",
       "      <th>167</th>\n",
       "      <td>Nisoldipine (Sular)</td>\n",
       "      <td>nisoldipine</td>\n",
       "      <td>dihydropyridines</td>\n",
       "    </tr>\n",
       "  </tbody>\n",
       "</table>\n",
       "<p>168 rows × 3 columns</p>\n",
       "</div>"
      ],
      "text/plain": [
       "                              drug_id           name             class\n",
       "0                   TraMADOL (Ultram)       tramadol            opiods\n",
       "1                            traMADOL       tramadol            opiods\n",
       "2    Buprenorphine-Naloxone (8mg-2mg)  buprenorphine            opiods\n",
       "3                       Buprenorphine  buprenorphine            opiods\n",
       "4                   Buprenorphine HCl  buprenorphine            opiods\n",
       "..                                ...            ...               ...\n",
       "163                        nifedipine     nifedipine  dihydropyridines\n",
       "164                *NF* Nifedipine XL     nifedipine  dihydropyridines\n",
       "165                 Nifedipine (Bulk)     nifedipine  dihydropyridines\n",
       "166                        Nimodipine     nimodipine  dihydropyridines\n",
       "167               Nisoldipine (Sular)    nisoldipine  dihydropyridines\n",
       "\n",
       "[168 rows x 3 columns]"
      ]
     },
     "execution_count": 20,
     "metadata": {},
     "output_type": "execute_result"
    }
   ],
   "source": [
    "drug_data"
   ]
  },
  {
   "cell_type": "code",
   "execution_count": 21,
   "metadata": {},
   "outputs": [
    {
     "ename": "OperationalError",
     "evalue": "table Drugs already exists",
     "output_type": "error",
     "traceback": [
      "\u001b[1;31m---------------------------------------------------------------------------\u001b[0m",
      "\u001b[1;31mOperationalError\u001b[0m                          Traceback (most recent call last)",
      "\u001b[1;32mc:\\Users\\12034\\Documents\\GitHub\\Bis638_FinalProject\\inna_bis638_final.ipynb Cell 23\u001b[0m in \u001b[0;36m<cell line: 7>\u001b[1;34m()\u001b[0m\n\u001b[0;32m      <a href='vscode-notebook-cell:/c%3A/Users/12034/Documents/GitHub/Bis638_FinalProject/inna_bis638_final.ipynb#X31sZmlsZQ%3D%3D?line=0'>1</a>\u001b[0m sql \u001b[39m=\u001b[39m\u001b[39m'''\u001b[39m\u001b[39mCREATE TABLE Drugs (\u001b[39m\n\u001b[0;32m      <a href='vscode-notebook-cell:/c%3A/Users/12034/Documents/GitHub/Bis638_FinalProject/inna_bis638_final.ipynb#X31sZmlsZQ%3D%3D?line=1'>2</a>\u001b[0m \u001b[39m    drug_id varchar(300)  NOT NULL,\u001b[39m\n\u001b[0;32m      <a href='vscode-notebook-cell:/c%3A/Users/12034/Documents/GitHub/Bis638_FinalProject/inna_bis638_final.ipynb#X31sZmlsZQ%3D%3D?line=2'>3</a>\u001b[0m \u001b[39m    name varchar(300)  NOT NULL,\u001b[39m\n\u001b[0;32m      <a href='vscode-notebook-cell:/c%3A/Users/12034/Documents/GitHub/Bis638_FinalProject/inna_bis638_final.ipynb#X31sZmlsZQ%3D%3D?line=3'>4</a>\u001b[0m \u001b[39m    class varchar(300)  NOT NULL,\u001b[39m\n\u001b[0;32m      <a href='vscode-notebook-cell:/c%3A/Users/12034/Documents/GitHub/Bis638_FinalProject/inna_bis638_final.ipynb#X31sZmlsZQ%3D%3D?line=4'>5</a>\u001b[0m \u001b[39m    FOREIGN KEY (drug_id) REFERENCES Prescriptions(drug)\u001b[39m\n\u001b[0;32m      <a href='vscode-notebook-cell:/c%3A/Users/12034/Documents/GitHub/Bis638_FinalProject/inna_bis638_final.ipynb#X31sZmlsZQ%3D%3D?line=5'>6</a>\u001b[0m \u001b[39m  );\u001b[39m\u001b[39m'''\u001b[39m\n\u001b[1;32m----> <a href='vscode-notebook-cell:/c%3A/Users/12034/Documents/GitHub/Bis638_FinalProject/inna_bis638_final.ipynb#X31sZmlsZQ%3D%3D?line=6'>7</a>\u001b[0m cursor\u001b[39m.\u001b[39;49mexecute(sql)\n",
      "\u001b[1;31mOperationalError\u001b[0m: table Drugs already exists"
     ]
    }
   ],
   "source": [
    "sql ='''CREATE TABLE Drugs (\n",
    "    drug_id varchar(300)  NOT NULL,\n",
    "    name varchar(300)  NOT NULL,\n",
    "    class varchar(300)  NOT NULL,\n",
    "    FOREIGN KEY (drug_id) REFERENCES Prescriptions(drug)\n",
    "  );'''\n",
    "cursor.execute(sql)\n"
   ]
  },
  {
   "cell_type": "markdown",
   "metadata": {},
   "source": [
    "###  Loading Cleaned Data into Database"
   ]
  },
  {
   "cell_type": "code",
   "execution_count": null,
   "metadata": {},
   "outputs": [],
   "source": [
    "patients.to_sql('Patients', conn, if_exists='replace', index = False)\n",
    "conn.commit()\n",
    "\n",
    "admissions.to_sql('Admissions', conn, if_exists='replace', index = False)\n",
    "conn.commit()\n",
    "\n",
    "d_icd_diagnoses.to_sql('D_icd_diagnoses', conn, if_exists='replace', index = False)\n",
    "conn.commit()\n",
    "\n",
    "diagnoses_icd.to_sql('Diagnoses_icd', conn, if_exists='replace', index = False)\n",
    "conn.commit()\n",
    "\n",
    "prescriptions.to_sql('Prescriptions', conn, if_exists='replace', index = False)\n",
    "conn.commit()\n",
    "\n",
    "drug_data.to_sql('Drugs', conn, if_exists='replace', index = False)\n",
    "conn.commit()"
   ]
  },
  {
   "cell_type": "markdown",
   "metadata": {},
   "source": [
    "### Querying the DIAGNOSES_ICD and D_ICD_DIAGNOSES tables"
   ]
  },
  {
   "cell_type": "markdown",
   "metadata": {},
   "source": [
    "Number of patients with delirium"
   ]
  },
  {
   "cell_type": "code",
   "execution_count": null,
   "metadata": {},
   "outputs": [],
   "source": [
    " sql = '''select count (distinct d.subject_id) as count_delirium\n",
    "from Diagnoses_icd d \n",
    "join D_icd_diagnoses dd ON d.icd9_code = dd.icd9_code\n",
    "where long_title like \"%delirium%\"''' \n",
    "\n",
    "\n",
    "pd.read_sql(sql, conn)"
   ]
  },
  {
   "cell_type": "markdown",
   "metadata": {},
   "source": [
    "Identifying subject_IDs with delirium"
   ]
  },
  {
   "cell_type": "code",
   "execution_count": null,
   "metadata": {},
   "outputs": [],
   "source": [
    " sql = '''select distinct d.subject_id \n",
    "from Diagnoses_icd d \n",
    "join D_icd_diagnoses dd ON d.icd9_code = dd.icd9_code\n",
    "where long_title like \"%delirium%\"''' \n",
    "\n",
    "\n",
    "pd.read_sql(sql, conn)"
   ]
  },
  {
   "cell_type": "markdown",
   "metadata": {},
   "source": [
    "Identifying ICD9_Codes with delirium"
   ]
  },
  {
   "cell_type": "code",
   "execution_count": null,
   "metadata": {},
   "outputs": [],
   "source": [
    " sql = '''select distinct d.icd9_code \n",
    "from Diagnoses_icd d \n",
    "join D_icd_diagnoses dd ON d.icd9_code = dd.icd9_code\n",
    "where long_title like \"%delirium%\"''' \n",
    "\n",
    "\n",
    "pd.read_sql(sql, conn)"
   ]
  },
  {
   "cell_type": "code",
   "execution_count": null,
   "metadata": {},
   "outputs": [],
   "source": [
    " sql = '''select distinct d.icd9_code, dd.long_title\n",
    "from Diagnoses_icd d \n",
    "join D_icd_diagnoses dd ON d.icd9_code = dd.icd9_code\n",
    "where long_title like \"%delirium%\"''' \n",
    "\n",
    "\n",
    "pd.read_sql(sql, conn)"
   ]
  },
  {
   "cell_type": "markdown",
   "metadata": {},
   "source": [
    "Number of patients with delirium subtypes"
   ]
  },
  {
   "cell_type": "code",
   "execution_count": null,
   "metadata": {},
   "outputs": [],
   "source": [
    "sql = '''select distinct d.subject_id id, d.icd9_code icd9, dd.long_title subtype\n",
    "from Diagnoses_icd d \n",
    "join D_icd_diagnoses dd ON d.icd9_code = dd.icd9_code\n",
    "where long_title like \"%delirium%\"'''\n",
    "\n",
    "pd.read_sql(sql, conn)"
   ]
  },
  {
   "cell_type": "code",
   "execution_count": null,
   "metadata": {},
   "outputs": [],
   "source": [
    "sql = '''select subtype, count(*),\n",
    "ROUND(count(*)*100.00/sum(count(subtype)) over(),1) as percent \n",
    "from (select distinct d.subject_id id, d.icd9_code icd9, dd.long_title subtype\n",
    "from Diagnoses_icd d \n",
    "join D_icd_diagnoses dd ON d.icd9_code = dd.icd9_code\n",
    "where long_title like \"%delirium%\")\n",
    "group by subtype\n",
    "order by 2 desc\n",
    "'''\n",
    "\n",
    "pd.read_sql(sql, conn)"
   ]
  },
  {
   "cell_type": "code",
   "execution_count": null,
   "metadata": {},
   "outputs": [],
   "source": [
    "1398 + 361 + 292 + 32 + 25"
   ]
  },
  {
   "cell_type": "code",
   "execution_count": null,
   "metadata": {},
   "outputs": [],
   "source": [
    "sql = '''select id, count(*) \n",
    "from (select distinct d.subject_id id, d.icd9_code icd9, dd.long_title subtype\n",
    "from Diagnoses_icd d \n",
    "join D_icd_diagnoses dd ON d.icd9_code = dd.icd9_code\n",
    "where long_title like \"%delirium%\")\n",
    "group by id \n",
    "having count(*) > 1 \n",
    "order by 2 desc'''\n",
    "\n",
    "pd.read_sql(sql, conn)"
   ]
  },
  {
   "cell_type": "markdown",
   "metadata": {},
   "source": [
    "### Querying the Prescriptions Table"
   ]
  },
  {
   "cell_type": "code",
   "execution_count": null,
   "metadata": {},
   "outputs": [],
   "source": [
    "sql = '''select * from prescriptions limit 5'''\n",
    "\n",
    "pd.read_sql(sql, conn)"
   ]
  },
  {
   "cell_type": "markdown",
   "metadata": {},
   "source": [
    "Number of patients with prescriptions"
   ]
  },
  {
   "cell_type": "code",
   "execution_count": null,
   "metadata": {},
   "outputs": [],
   "source": [
    "sql = '''select count (distinct subject_id) from prescriptions'''\n",
    "\n",
    "pd.read_sql(sql, conn)"
   ]
  },
  {
   "cell_type": "markdown",
   "metadata": {},
   "source": [
    "Number of patients with delirium with prescriptions"
   ]
  },
  {
   "cell_type": "code",
   "execution_count": null,
   "metadata": {},
   "outputs": [],
   "source": [
    "sql = '''select n as n, ROUND(n*100.00/2046,1) as percentage\n",
    "from (select count (distinct subject_id) as n\n",
    "from prescriptions\n",
    "where subject_id in \n",
    "(SELECT distinct d.subject_id\n",
    "from Diagnoses_icd d \n",
    "join D_icd_diagnoses dd ON d.icd9_code = dd.icd9_code\n",
    "WHERE long_title LIKE \"%delirium%\"))'''\n",
    "\n",
    "pd.read_sql(sql, conn)"
   ]
  },
  {
   "cell_type": "markdown",
   "metadata": {},
   "source": [
    "List of all drugs of interest"
   ]
  },
  {
   "cell_type": "code",
   "execution_count": null,
   "metadata": {},
   "outputs": [],
   "source": [
    "sql = '''select distinct drug_id from drugs'''\n",
    "\n",
    "pd.read_sql(sql, conn)"
   ]
  },
  {
   "cell_type": "markdown",
   "metadata": {},
   "source": [
    "Creating a \"delrium\" column in the prescriptions table"
   ]
  },
  {
   "cell_type": "code",
   "execution_count": null,
   "metadata": {},
   "outputs": [],
   "source": [
    "sql = '''select subject_id, case when subject_id in (select distinct d.subject_id \n",
    "from Diagnoses_icd d \n",
    "join D_icd_diagnoses dd ON d.icd9_code = dd.icd9_code\n",
    "where long_title like \"%delirium%\") then 1 else 0 end as delirium, drug\n",
    "from prescriptions\n",
    "where drug in (select distinct drug_id from drugs)'''\n",
    "\n",
    "pd.read_sql(sql, conn)"
   ]
  },
  {
   "cell_type": "code",
   "execution_count": null,
   "metadata": {},
   "outputs": [],
   "source": [
    "sql = '''select delirium, count(drug) \n",
    "from (select subject_id, case when subject_id in (select distinct d.subject_id \n",
    "from Diagnoses_icd d \n",
    "join D_icd_diagnoses dd ON d.icd9_code = dd.icd9_code\n",
    "where long_title like \"%delirium%\") then 1 else 0 end as delirium, drug\n",
    "from prescriptions\n",
    "where drug in (select distinct drug_id from drugs)) \n",
    "group by delirium\n",
    "order by 2 desc'''\n",
    "\n",
    "pd.read_sql(sql, conn)"
   ]
  },
  {
   "cell_type": "code",
   "execution_count": null,
   "metadata": {},
   "outputs": [],
   "source": [
    "sql = '''select delirium, count(drug) \n",
    "from (select subject_id, case when subject_id in (select distinct d.subject_id \n",
    "from Diagnoses_icd d \n",
    "join D_icd_diagnoses dd ON d.icd9_code = dd.icd9_code\n",
    "where long_title like \"%delirium%\") then 1 else 0 end as delirium, drug\n",
    "from prescriptions\n",
    "where drug in (select distinct drug_id from drugs where class=\"opiods\")) \n",
    "group by delirium\n",
    "order by 2 desc'''\n",
    "\n",
    "pd.read_sql(sql, conn)"
   ]
  }
 ],
 "metadata": {
  "kernelspec": {
   "display_name": "Python 3.10.4 64-bit",
   "language": "python",
   "name": "python3"
  },
  "language_info": {
   "codemirror_mode": {
    "name": "ipython",
    "version": 3
   },
   "file_extension": ".py",
   "mimetype": "text/x-python",
   "name": "python",
   "nbconvert_exporter": "python",
   "pygments_lexer": "ipython3",
   "version": "3.10.4"
  },
  "orig_nbformat": 4,
  "vscode": {
   "interpreter": {
    "hash": "8b41becdef4899acfbbd1485a22892933050ba852a26e42b5361999e714c45e6"
   }
  }
 },
 "nbformat": 4,
 "nbformat_minor": 2
}
