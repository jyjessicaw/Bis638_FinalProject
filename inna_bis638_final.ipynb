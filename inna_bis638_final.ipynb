{
 "cells": [
  {
   "cell_type": "code",
   "execution_count": 1,
   "metadata": {},
   "outputs": [],
   "source": [
    "import pandas as pd\n",
    "import sqlite3\n",
    "from sqlite3 import Error\n",
    "import requests\n",
    "from IPython.display import display"
   ]
  },
  {
   "cell_type": "code",
   "execution_count": 83,
   "metadata": {},
   "outputs": [],
   "source": [
    "\n",
    "def get_rxcui(classId, relaSource):\n",
    "    '''Return the correct url for rxcui'''\n",
    "    url_base = 'https://rxnav.nlm.nih.gov/REST/rxclass/classMembers.json?classId='\n",
    "    my_url = 'https://rxnav.nlm.nih.gov/REST/rxclass/classMembers.json?classId=' + classId + '&relaSource=' + relaSource\n",
    "\n",
    "    r = requests.get(url = my_url)\n",
    "    data = r.json()\n",
    "    terms = data['drugMemberGroup']['drugMember']\n",
    "    rxcui_lst = []\n",
    "\n",
    "    for n, term in enumerate(terms):\n",
    "        rxcui = terms[n]['minConcept']['rxcui']\n",
    "        rxcui_lst.append(rxcui)\n",
    "    \n",
    "    return rxcui_lst"
   ]
  },
  {
   "cell_type": "code",
   "execution_count": 91,
   "metadata": {},
   "outputs": [],
   "source": [
    "\n",
    "def get_ndc(rxcui):\n",
    "    '''Return ndc for rxcui'''\n",
    "    url_base = 'https://rxnav.nlm.nih.gov/REST/rxcui/'\n",
    "    my_url = url_base + rxcui + '/ndcs.json'\n",
    "    return my_url\n"
   ]
  },
  {
   "cell_type": "code",
   "execution_count": 88,
   "metadata": {},
   "outputs": [],
   "source": [
    "opiod_rxcui = get_rxcui('N02A','ATC')\n",
    "benzo_rxcui = get_rxcui('D001569','DAILYMED')\n",
    "dihyd_rxcui = get_rxcui('D004095','DAILYMED')"
   ]
  },
  {
   "cell_type": "code",
   "execution_count": 92,
   "metadata": {},
   "outputs": [
    {
     "data": {
      "text/plain": [
       "'https://rxnav.nlm.nih.gov/REST/rxcui/213269/ndcs.json'"
      ]
     },
     "execution_count": 92,
     "metadata": {},
     "output_type": "execute_result"
    }
   ],
   "source": [
    "get_ndc('213269')"
   ]
  },
  {
   "cell_type": "code",
   "execution_count": 89,
   "metadata": {},
   "outputs": [
    {
     "data": {
      "text/plain": [
       "['1007909',\n",
       " '10597',\n",
       " '10689',\n",
       " '135095',\n",
       " '1545902',\n",
       " '1806700',\n",
       " '1819',\n",
       " '1841',\n",
       " '22713',\n",
       " '23088',\n",
       " '2392230',\n",
       " '2588474',\n",
       " '3290',\n",
       " '3423',\n",
       " '352362',\n",
       " '4337',\n",
       " '484259',\n",
       " '6754',\n",
       " '6761',\n",
       " '7052',\n",
       " '710303',\n",
       " '7238',\n",
       " '7676',\n",
       " '7804',\n",
       " '7814',\n",
       " '787390',\n",
       " '7894',\n",
       " '8001',\n",
       " '8119',\n",
       " '817579',\n",
       " '8354',\n",
       " '8785']"
      ]
     },
     "execution_count": 89,
     "metadata": {},
     "output_type": "execute_result"
    }
   ],
   "source": [
    "opiod_rxcui"
   ]
  },
  {
   "cell_type": "code",
   "execution_count": 75,
   "metadata": {},
   "outputs": [
    {
     "data": {
      "text/plain": [
       "['1007909',\n",
       " '10597',\n",
       " '10689',\n",
       " '135095',\n",
       " '1545902',\n",
       " '1806700',\n",
       " '1819',\n",
       " '1841',\n",
       " '22713',\n",
       " '23088',\n",
       " '2392230',\n",
       " '2588474',\n",
       " '3290',\n",
       " '3423',\n",
       " '352362',\n",
       " '4337',\n",
       " '484259',\n",
       " '6754',\n",
       " '6761',\n",
       " '7052',\n",
       " '710303',\n",
       " '7238',\n",
       " '7676',\n",
       " '7804',\n",
       " '7814',\n",
       " '787390',\n",
       " '7894',\n",
       " '8001',\n",
       " '8119',\n",
       " '817579',\n",
       " '8354',\n",
       " '8785']"
      ]
     },
     "execution_count": 75,
     "metadata": {},
     "output_type": "execute_result"
    }
   ],
   "source": []
  },
  {
   "cell_type": "code",
   "execution_count": null,
   "metadata": {},
   "outputs": [],
   "source": [
    "\n",
    "#  GET (using requests) all the ICD9 terms that are descendants of lung disease as the root\n",
    "#DOID for lung disease\n",
    "#doid='DOID_850' #DOID for lung disease\n",
    "doid='DOID_114'\n",
    "url_base='https://www.ebi.ac.uk/ols/api/ontologies/doid/terms/'\n",
    "url_terms=url_base+'http%253A%252F%252Fpurl.obolibrary.org%252Fobo%252F'+doid+'/descendants?page=0&size=200'\n",
    "icdlist = []\n",
    "doidlist = []\n",
    "synlist = []\n",
    "terms={}\n",
    "\n",
    "# get the JSON output containing all descendants of \"heart diseaase\"\n",
    "r2 = requests.get(url = url_terms)\n",
    "data2 = r2.json()\n",
    "##insert your own code below to assign the names of the two keys represented by key1 and key2\n",
    "key1='_embedded'\n",
    "key2='terms' \n",
    "\n",
    "#a collection of terms extracted from the JSON object\n",
    "terms=data2[key1][key2]\n",
    "\n",
    "#retrieve DOID's, synonyms (including labels) and ICD9 codes (without dots) for each descendant term\n",
    "for term in terms:\n",
    "    # find the database for ICD9 codes\n",
    "  label=term['label']\n",
    "  iri=term['iri']\n",
    "  lst=iri.split('_')\n",
    "  obo_id='DOID:'+lst[1]\n",
    "  db=''\n",
    "  if 'database_cross_reference' in term['annotation']:\n",
    "    for d2 in term['annotation']['database_cross_reference']:\n",
    "      dblst=d2.split(':')\n",
    "      db=dblst[0]\n",
    "      code=dblst[1]\n",
    "      if db=='ICD9CM':\n",
    "        break\n",
    "    if db=='ICD9CM':\n",
    "        code=code.replace('.','')\n",
    "        if 'has_exact_synonym' in term['annotation']:\n",
    "          doidlist.append(obo_id)\n",
    "          synlist.append(label)\n",
    "          icdlist.append(code)\n",
    "          for s in term['annotation']['has_exact_synonym']:\n",
    "            doidlist.append(obo_id)\n",
    "            synlist.append(s)\n",
    "            icdlist.append(code)\n",
    "\n",
    "print(f\"Length of doidlist: {len(doidlist)}, length of synlist: {len(synlist)}, length of icdlist: {len(icdlist)} \\n\")  \n",
    "print(doidlist)"
   ]
  },
  {
   "cell_type": "code",
   "execution_count": 2,
   "metadata": {},
   "outputs": [],
   "source": [
    "conn = sqlite3.connect('mimic.db')\n",
    "cursor = conn.cursor()"
   ]
  },
  {
   "cell_type": "markdown",
   "metadata": {},
   "source": [
    "### Creating tables"
   ]
  },
  {
   "cell_type": "code",
   "execution_count": 3,
   "metadata": {},
   "outputs": [
    {
     "name": "stdout",
     "output_type": "stream",
     "text": [
      "Table(s) created successfully........\n"
     ]
    }
   ],
   "source": [
    "cursor.execute(\"DROP TABLE IF EXISTS Patients\")\n",
    "cursor.execute(\"DROP TABLE IF EXISTS Admissions\")\n",
    "cursor.execute(\"DROP TABLE IF EXISTS Diagnoses_icd\")\n",
    "cursor.execute(\"DROP TABLE IF EXISTS D_icd_diagnoses\")\n",
    "cursor.execute(\"DROP TABLE IF EXISTS Prescriptions\")\n",
    "\n",
    "\n",
    "sql ='''CREATE TABLE Patients (\n",
    "    row_id int  NOT NULL,\n",
    "    subject_id int  NOT NULL,\n",
    "    gender varchar(5)  NOT NULL,\n",
    "    dob datetime  NOT NULL,\n",
    "    dod datetime  NOT NULL,\n",
    "    dod_hosp datetime  NULL,\n",
    "    dod_ssn datetime  NULL,\n",
    "    expire_flag varchar(5)  NOT NULL,\n",
    "    PRIMARY KEY (subject_id)\n",
    "  );'''\n",
    "\n",
    "cursor.execute(sql)\n",
    "\n",
    "\n",
    "sql ='''CREATE TABLE Admissions (\n",
    "    row_id int  NOT NULL,\n",
    "    subject_id int  NOT NULL,\n",
    "    hadm_id int  NOT NULL,\n",
    "    admittime datetime  NOT NULL,\n",
    "    dischtime datetime  NOT NULL,\n",
    "    deathtime datetime   NULL,\n",
    "    admission_type varchar(50)  NOT NULL,\n",
    "    admission_location varchar(50)  NOT NULL,\n",
    "    discharge_location varchar(50)  NOT NULL,\n",
    "    insurance varchar(255)  NOT NULL,\n",
    "    language varchar(10)   NULL,\n",
    "    religion varchar(50)   NULL,\n",
    "    marital_status varchar(50)   NULL,\n",
    "    ethnicity varchar(200)  NOT NULL,\n",
    "    edregtime datetime   NULL,\n",
    "    edouttime datetime   NULL,\n",
    "    diagnosis varchar(300)  NOT NULL,\n",
    "    hospital_expire_flag int  NOT NULL,\n",
    "    has_chartevents_data int  NOT NULL,\n",
    "    PRIMARY KEY (hadm_id),\n",
    "    FOREIGN KEY (subject_id) REFERENCES Patients(subject_id)\n",
    "  );'''\n",
    "\n",
    "cursor.execute(sql)\n",
    "\n",
    "sql ='''CREATE TABLE D_icd_diagnoses (\n",
    "    row_id int  NOT NULL,\n",
    "    icd9_code varchar(10) NOT NULL,\n",
    "    short_title varchar(50) NOT NULL,\n",
    "    long_title varchar(300) NOT NULL,\n",
    "    PRIMARY KEY (icd9_code) \n",
    "  );'''\n",
    "cursor.execute(sql)\n",
    "\n",
    "\n",
    "sql ='''CREATE TABLE Diagnoses_icd (\n",
    "    row_id int  NOT NULL,\n",
    "    subject_id int  NOT NULL,\n",
    "    hadm_id int  NOT NULL,\n",
    "     seq_num int NOT NULL,\n",
    "     icd9_code varchar(10) NOT NULL,\n",
    "    PRIMARY KEY (hadm_id),\n",
    "    FOREIGN KEY (icd9_code) REFERENCES D_icd_diagnoses(icd9_code)\n",
    "  );'''\n",
    "cursor.execute(sql)\n",
    "\n",
    "\n",
    " #insert code to create Prescriptions table\n",
    "sql ='''CREATE TABLE Prescriptions (\n",
    "    row_id int  NOT NULL,\n",
    "    subject_id int  NOT NULL,\n",
    "    hadm_id int  NOT NULL,\n",
    "    startdate datetime NULL,\n",
    "    enddate datetime NULL,\n",
    "    drug_type varchar(50) NULL,\n",
    "    drug varchar(300) NULL,\n",
    "    drug_name_poe varchar(300) NULL,\n",
    "    drug_name_generic varchar(300) NULL,\n",
    "    formulary_drug_cd varchar(300) NULL,\n",
    "    gsn int NULL,\n",
    "    ndc real NULL,\n",
    "    prod_strength varchar(300) NULL,\n",
    "    dose_val_rx varchar(50) NULL,\n",
    "    dose_unit_rx varchar(50) NULL,\n",
    "    form_val_disp varchar(50) NULL,\n",
    "    form_unit_disp varchar(50) NULL,\n",
    "    route varchar(50) NULL,\n",
    "    FOREIGN KEY (hadm_id) REFERENCES Diagnoses_icd(hadm_id),\n",
    "    FOREIGN KEY (subject_id) REFERENCES Patients(subject_id)\n",
    "  );'''\n",
    "cursor.execute(sql)\n",
    "\n",
    "\n",
    "\n",
    "print(\"Table(s) created successfully........\")\n",
    "conn.commit()"
   ]
  },
  {
   "cell_type": "markdown",
   "metadata": {},
   "source": [
    "### Data Cleaning "
   ]
  },
  {
   "cell_type": "code",
   "execution_count": 4,
   "metadata": {},
   "outputs": [],
   "source": [
    "patients = pd.read_csv('../../mimic-iii-clinical-database-1.4/PATIENTS.csv.gz', compression='gzip')"
   ]
  },
  {
   "cell_type": "code",
   "execution_count": 5,
   "metadata": {},
   "outputs": [],
   "source": [
    "admissions = pd.read_csv('../../mimic-iii-clinical-database-1.4/ADMISSIONS.csv.gz', compression='gzip')"
   ]
  },
  {
   "cell_type": "code",
   "execution_count": 6,
   "metadata": {},
   "outputs": [],
   "source": [
    "d_icd_diagnoses = pd.read_csv('../../mimic-iii-clinical-database-1.4/D_ICD_DIAGNOSES.csv.gz', compression='gzip')"
   ]
  },
  {
   "cell_type": "code",
   "execution_count": 7,
   "metadata": {},
   "outputs": [],
   "source": [
    "diagnoses_icd = pd.read_csv('../../mimic-iii-clinical-database-1.4/DIAGNOSES_ICD.csv.gz', compression='gzip')"
   ]
  },
  {
   "cell_type": "code",
   "execution_count": 8,
   "metadata": {},
   "outputs": [],
   "source": [
    "prescriptions = pd.read_csv('../../mimic-iii-clinical-database-1.4/PRESCRIPTIONS.csv.gz', compression='gzip', low_memory=False)"
   ]
  },
  {
   "cell_type": "code",
   "execution_count": 24,
   "metadata": {},
   "outputs": [
    {
     "data": {
      "text/html": [
       "<div>\n",
       "<style scoped>\n",
       "    .dataframe tbody tr th:only-of-type {\n",
       "        vertical-align: middle;\n",
       "    }\n",
       "\n",
       "    .dataframe tbody tr th {\n",
       "        vertical-align: top;\n",
       "    }\n",
       "\n",
       "    .dataframe thead th {\n",
       "        text-align: right;\n",
       "    }\n",
       "</style>\n",
       "<table border=\"1\" class=\"dataframe\">\n",
       "  <thead>\n",
       "    <tr style=\"text-align: right;\">\n",
       "      <th></th>\n",
       "      <th>ROW_ID</th>\n",
       "      <th>SUBJECT_ID</th>\n",
       "      <th>HADM_ID</th>\n",
       "      <th>ICUSTAY_ID</th>\n",
       "      <th>STARTDATE</th>\n",
       "      <th>ENDDATE</th>\n",
       "      <th>DRUG_TYPE</th>\n",
       "      <th>DRUG</th>\n",
       "      <th>DRUG_NAME_POE</th>\n",
       "      <th>DRUG_NAME_GENERIC</th>\n",
       "      <th>FORMULARY_DRUG_CD</th>\n",
       "      <th>GSN</th>\n",
       "      <th>NDC</th>\n",
       "      <th>PROD_STRENGTH</th>\n",
       "      <th>DOSE_VAL_RX</th>\n",
       "      <th>DOSE_UNIT_RX</th>\n",
       "      <th>FORM_VAL_DISP</th>\n",
       "      <th>FORM_UNIT_DISP</th>\n",
       "      <th>ROUTE</th>\n",
       "    </tr>\n",
       "  </thead>\n",
       "  <tbody>\n",
       "    <tr>\n",
       "      <th>0</th>\n",
       "      <td>2214776</td>\n",
       "      <td>6</td>\n",
       "      <td>107064</td>\n",
       "      <td>NaN</td>\n",
       "      <td>2175-06-11 00:00:00</td>\n",
       "      <td>2175-06-12 00:00:00</td>\n",
       "      <td>MAIN</td>\n",
       "      <td>Tacrolimus</td>\n",
       "      <td>Tacrolimus</td>\n",
       "      <td>Tacrolimus</td>\n",
       "      <td>TACR1</td>\n",
       "      <td>021796</td>\n",
       "      <td>469061711.0</td>\n",
       "      <td>1mg Capsule</td>\n",
       "      <td>2</td>\n",
       "      <td>mg</td>\n",
       "      <td>2</td>\n",
       "      <td>CAP</td>\n",
       "      <td>PO</td>\n",
       "    </tr>\n",
       "    <tr>\n",
       "      <th>1</th>\n",
       "      <td>2214775</td>\n",
       "      <td>6</td>\n",
       "      <td>107064</td>\n",
       "      <td>NaN</td>\n",
       "      <td>2175-06-11 00:00:00</td>\n",
       "      <td>2175-06-12 00:00:00</td>\n",
       "      <td>MAIN</td>\n",
       "      <td>Warfarin</td>\n",
       "      <td>Warfarin</td>\n",
       "      <td>Warfarin</td>\n",
       "      <td>WARF5</td>\n",
       "      <td>006562</td>\n",
       "      <td>56017275.0</td>\n",
       "      <td>5mg Tablet</td>\n",
       "      <td>5</td>\n",
       "      <td>mg</td>\n",
       "      <td>1</td>\n",
       "      <td>TAB</td>\n",
       "      <td>PO</td>\n",
       "    </tr>\n",
       "    <tr>\n",
       "      <th>2</th>\n",
       "      <td>2215524</td>\n",
       "      <td>6</td>\n",
       "      <td>107064</td>\n",
       "      <td>NaN</td>\n",
       "      <td>2175-06-11 00:00:00</td>\n",
       "      <td>2175-06-12 00:00:00</td>\n",
       "      <td>MAIN</td>\n",
       "      <td>Heparin Sodium</td>\n",
       "      <td>NaN</td>\n",
       "      <td>NaN</td>\n",
       "      <td>HEPAPREMIX</td>\n",
       "      <td>006522</td>\n",
       "      <td>338055002.0</td>\n",
       "      <td>25,000 unit Premix Bag</td>\n",
       "      <td>25,000</td>\n",
       "      <td>UNIT</td>\n",
       "      <td>1</td>\n",
       "      <td>BAG</td>\n",
       "      <td>IV</td>\n",
       "    </tr>\n",
       "    <tr>\n",
       "      <th>3</th>\n",
       "      <td>2216265</td>\n",
       "      <td>6</td>\n",
       "      <td>107064</td>\n",
       "      <td>NaN</td>\n",
       "      <td>2175-06-11 00:00:00</td>\n",
       "      <td>2175-06-12 00:00:00</td>\n",
       "      <td>BASE</td>\n",
       "      <td>D5W</td>\n",
       "      <td>NaN</td>\n",
       "      <td>NaN</td>\n",
       "      <td>HEPBASE</td>\n",
       "      <td>NaN</td>\n",
       "      <td>0.0</td>\n",
       "      <td>HEPARIN BASE</td>\n",
       "      <td>250</td>\n",
       "      <td>ml</td>\n",
       "      <td>250</td>\n",
       "      <td>ml</td>\n",
       "      <td>IV</td>\n",
       "    </tr>\n",
       "    <tr>\n",
       "      <th>4</th>\n",
       "      <td>2214773</td>\n",
       "      <td>6</td>\n",
       "      <td>107064</td>\n",
       "      <td>NaN</td>\n",
       "      <td>2175-06-11 00:00:00</td>\n",
       "      <td>2175-06-12 00:00:00</td>\n",
       "      <td>MAIN</td>\n",
       "      <td>Furosemide</td>\n",
       "      <td>Furosemide</td>\n",
       "      <td>Furosemide</td>\n",
       "      <td>FURO20</td>\n",
       "      <td>008208</td>\n",
       "      <td>54829725.0</td>\n",
       "      <td>20mg Tablet</td>\n",
       "      <td>20</td>\n",
       "      <td>mg</td>\n",
       "      <td>1</td>\n",
       "      <td>TAB</td>\n",
       "      <td>PO</td>\n",
       "    </tr>\n",
       "  </tbody>\n",
       "</table>\n",
       "</div>"
      ],
      "text/plain": [
       "    ROW_ID  SUBJECT_ID  HADM_ID  ICUSTAY_ID            STARTDATE  \\\n",
       "0  2214776           6   107064         NaN  2175-06-11 00:00:00   \n",
       "1  2214775           6   107064         NaN  2175-06-11 00:00:00   \n",
       "2  2215524           6   107064         NaN  2175-06-11 00:00:00   \n",
       "3  2216265           6   107064         NaN  2175-06-11 00:00:00   \n",
       "4  2214773           6   107064         NaN  2175-06-11 00:00:00   \n",
       "\n",
       "               ENDDATE DRUG_TYPE            DRUG DRUG_NAME_POE  \\\n",
       "0  2175-06-12 00:00:00      MAIN      Tacrolimus    Tacrolimus   \n",
       "1  2175-06-12 00:00:00      MAIN        Warfarin      Warfarin   \n",
       "2  2175-06-12 00:00:00      MAIN  Heparin Sodium           NaN   \n",
       "3  2175-06-12 00:00:00      BASE             D5W           NaN   \n",
       "4  2175-06-12 00:00:00      MAIN      Furosemide    Furosemide   \n",
       "\n",
       "  DRUG_NAME_GENERIC FORMULARY_DRUG_CD     GSN          NDC  \\\n",
       "0        Tacrolimus             TACR1  021796  469061711.0   \n",
       "1          Warfarin             WARF5  006562   56017275.0   \n",
       "2               NaN        HEPAPREMIX  006522  338055002.0   \n",
       "3               NaN           HEPBASE     NaN          0.0   \n",
       "4        Furosemide            FURO20  008208   54829725.0   \n",
       "\n",
       "            PROD_STRENGTH DOSE_VAL_RX DOSE_UNIT_RX FORM_VAL_DISP  \\\n",
       "0             1mg Capsule           2           mg             2   \n",
       "1              5mg Tablet           5           mg             1   \n",
       "2  25,000 unit Premix Bag      25,000         UNIT             1   \n",
       "3            HEPARIN BASE         250           ml           250   \n",
       "4             20mg Tablet          20           mg             1   \n",
       "\n",
       "  FORM_UNIT_DISP ROUTE  \n",
       "0            CAP    PO  \n",
       "1            TAB    PO  \n",
       "2            BAG    IV  \n",
       "3             ml    IV  \n",
       "4            TAB    PO  "
      ]
     },
     "execution_count": 24,
     "metadata": {},
     "output_type": "execute_result"
    }
   ],
   "source": [
    "prescriptions.head()"
   ]
  },
  {
   "cell_type": "code",
   "execution_count": 41,
   "metadata": {},
   "outputs": [],
   "source": [
    "def find_drug(drug):\n",
    "    return prescriptions.DRUG[prescriptions.DRUG.str.contains(drug, case=False, regex=True)].value_counts()"
   ]
  },
  {
   "cell_type": "code",
   "execution_count": 55,
   "metadata": {},
   "outputs": [],
   "source": [
    "def clean_drug(drug):\n",
    "    return prescriptions.DRUG[prescriptions.DRUG.str.replace(drug, drug, case=False, regex=True)]"
   ]
  },
  {
   "cell_type": "code",
   "execution_count": 30,
   "metadata": {},
   "outputs": [
    {
     "data": {
      "text/plain": [
       "Midazolam           13652\n",
       "Midazolam HCl        7902\n",
       "NEO*PO*Midazolam        6\n",
       "MIDAZOLAM               3\n",
       "Name: DRUG, dtype: int64"
      ]
     },
     "execution_count": 30,
     "metadata": {},
     "output_type": "execute_result"
    }
   ],
   "source": [
    "find_drug('midazolam')"
   ]
  },
  {
   "cell_type": "code",
   "execution_count": 47,
   "metadata": {},
   "outputs": [
    {
     "data": {
      "text/plain": [
       "21563"
      ]
     },
     "execution_count": 47,
     "metadata": {},
     "output_type": "execute_result"
    }
   ],
   "source": [
    "13652 + 7902 + 6 + 3"
   ]
  },
  {
   "cell_type": "code",
   "execution_count": 23,
   "metadata": {},
   "outputs": [
    {
     "data": {
      "text/plain": [
       "Lorazepam                            55352\n",
       "NEO*PO*Lorazepam Oral Concentrate       20\n",
       "Lorazepam 2mg syringe                   14\n",
       "LORAZEPAM                                8\n",
       "Lorazepam 2mg Syringe                    2\n",
       "Lorazepam 2mg syringe                    1\n",
       "Lorazepam 2 mg syringe                   1\n",
       "Lorazepam 2mg syringa                    1\n",
       "Lorazepam 2 mg syringe                   1\n",
       "Name: DRUG, dtype: int64"
      ]
     },
     "execution_count": 23,
     "metadata": {},
     "output_type": "execute_result"
    }
   ],
   "source": [
    "find_drug('lorazepam')"
   ]
  },
  {
   "cell_type": "code",
   "execution_count": 31,
   "metadata": {},
   "outputs": [
    {
     "data": {
      "text/plain": [
       "Diazepam    10399\n",
       "Name: DRUG, dtype: int64"
      ]
     },
     "execution_count": 31,
     "metadata": {},
     "output_type": "execute_result"
    }
   ],
   "source": [
    "find_drug('diazepam')"
   ]
  },
  {
   "cell_type": "code",
   "execution_count": 32,
   "metadata": {},
   "outputs": [
    {
     "data": {
      "text/plain": [
       "Propofol                34462\n",
       "Propofol (Generic)       3715\n",
       "PROPOFOL                    5\n",
       "Propofol (Diprivan)         3\n",
       "PROPOFOL (*GENERIC*)        2\n",
       "Propofol Diprivan           1\n",
       "Name: DRUG, dtype: int64"
      ]
     },
     "execution_count": 32,
     "metadata": {},
     "output_type": "execute_result"
    }
   ],
   "source": [
    "find_drug('propofol')"
   ]
  },
  {
   "cell_type": "code",
   "execution_count": 33,
   "metadata": {},
   "outputs": [
    {
     "data": {
      "text/plain": [
       "Dexmedetomidine        2258\n",
       "Dexmedetomidine HCl     943\n",
       "Dexmedetomidine Hcl      16\n",
       "Name: DRUG, dtype: int64"
      ]
     },
     "execution_count": 33,
     "metadata": {},
     "output_type": "execute_result"
    }
   ],
   "source": [
    "find_drug('dexmedetomidine')"
   ]
  },
  {
   "cell_type": "code",
   "execution_count": 34,
   "metadata": {},
   "outputs": [
    {
     "data": {
      "text/plain": [
       "Fentanyl Citrate         31669\n",
       "Fentanyl Patch            3233\n",
       "NEO*IV*Fentanyl            424\n",
       "Fentanyl PCA               348\n",
       "Fentanyl                    48\n",
       "FENTANYL                     9\n",
       "Fentanyl                     1\n",
       "fentaNYL                     1\n",
       "fentaNYL citrate (PF)        1\n",
       "Name: DRUG, dtype: int64"
      ]
     },
     "execution_count": 34,
     "metadata": {},
     "output_type": "execute_result"
    }
   ],
   "source": [
    "find_drug('fentanyl')"
   ]
  },
  {
   "cell_type": "code",
   "execution_count": 35,
   "metadata": {},
   "outputs": [
    {
     "data": {
      "text/plain": [
       "Morphine Sulfate                               62134\n",
       "Morphine Sulfate IR                             1754\n",
       "Morphine SR (MS Contin)                         1328\n",
       "Morphine Sulfate (Oral Soln.)                   1032\n",
       "Morphine Sulfate (Concentrated Oral Soln)        829\n",
       "Morphine Sulfate SR                              608\n",
       "NEO*IV*Morphine Sulfate                           90\n",
       "NEO*PO*Morphine                                   70\n",
       "Morphine Sulfate                                  25\n",
       "Morphine (PF)                                     25\n",
       "Morphine                                          21\n",
       "Morphine Infusion ? Comfort Care Guidelines       18\n",
       "Morphine                                          18\n",
       "Morphine PCA                                      17\n",
       "Morphine Sulfate (Syringe)                        13\n",
       "Morphine Sulfate PF                               13\n",
       "Morphine Sulfate (2-4mg)                           8\n",
       "Morphine Sulfate (Immediate Release)               7\n",
       "Morphine Sulfate For Inhalation                    7\n",
       "Morphine Sulfate (PF)                              5\n",
       "Morphine Sulfate (1-5mg)                           3\n",
       "Morphine Sulfate (2-6mg)                           3\n",
       "morphine                                           3\n",
       "Morphine Sulfate (4-8mg)                           2\n",
       "MORPHINE SULFATE                                   2\n",
       "MORPHINE                                           1\n",
       "Morphine Su                                        1\n",
       "Morphine Sulfate (0.5-4mg)                         1\n",
       "Morphine Sulfate (1-10mg)                          1\n",
       "Morphine Sulfa                                     1\n",
       "Morphine Concentrate                               1\n",
       "Morphine Sulfat                                    1\n",
       "Morphine Sulfate (2-5mg)                           1\n",
       "Morphine S                                         1\n",
       "Morphine Sul                                       1\n",
       "Name: DRUG, dtype: int64"
      ]
     },
     "execution_count": 35,
     "metadata": {},
     "output_type": "execute_result"
    }
   ],
   "source": [
    "find_drug('morphine')"
   ]
  },
  {
   "cell_type": "code",
   "execution_count": 36,
   "metadata": {},
   "outputs": [
    {
     "data": {
      "text/plain": [
       "HYDROmorphone (Dilaudid)                            37673\n",
       "Hydromorphone                                       11898\n",
       "HYDROmorphone                                        1399\n",
       "HYDROmorphone P.F.                                    938\n",
       "Hydromorphone P.F.                                    828\n",
       "HYDROmorphone-HP                                      189\n",
       "Hydromorphone-HP                                      185\n",
       "Hydromorphone HCl                                      27\n",
       "Hydromorphone-hp                                       25\n",
       "Hydromorphone PCA                                      17\n",
       "HYDROmorphone PCA                                       8\n",
       "Hydromorphone Hcl                                       3\n",
       "HYDROmorphone PCA (Dilaudid)                            3\n",
       "hydromorphone                                           2\n",
       "Hydromorphone (Rectal)                                  2\n",
       "HYDROmorphone Solution                                  2\n",
       "HYDROmorphone Infusion ? Comfort Care Guidelines        1\n",
       "HYDROmorphone                                           1\n",
       "HYDROMORPHONE                                           1\n",
       "Name: DRUG, dtype: int64"
      ]
     },
     "execution_count": 36,
     "metadata": {},
     "output_type": "execute_result"
    }
   ],
   "source": [
    "find_drug('Hydromorphone')"
   ]
  },
  {
   "cell_type": "code",
   "execution_count": null,
   "metadata": {},
   "outputs": [],
   "source": []
  },
  {
   "cell_type": "code",
   "execution_count": null,
   "metadata": {},
   "outputs": [],
   "source": []
  },
  {
   "cell_type": "code",
   "execution_count": null,
   "metadata": {},
   "outputs": [],
   "source": []
  },
  {
   "cell_type": "code",
   "execution_count": null,
   "metadata": {},
   "outputs": [],
   "source": []
  },
  {
   "cell_type": "markdown",
   "metadata": {},
   "source": [
    "###  Loading Cleaned Data into Database"
   ]
  },
  {
   "cell_type": "code",
   "execution_count": 9,
   "metadata": {},
   "outputs": [
    {
     "ename": "KeyboardInterrupt",
     "evalue": "",
     "output_type": "error",
     "traceback": [
      "\u001b[1;31m---------------------------------------------------------------------------\u001b[0m",
      "\u001b[1;31mKeyboardInterrupt\u001b[0m                         Traceback (most recent call last)",
      "\u001b[1;32mc:\\Users\\12034\\Documents\\GitHub\\Bis638_FinalProject\\inna_bis638_final.ipynb Cell 17\u001b[0m in \u001b[0;36m<cell line: 13>\u001b[1;34m()\u001b[0m\n\u001b[0;32m     <a href='vscode-notebook-cell:/c%3A/Users/12034/Documents/GitHub/Bis638_FinalProject/inna_bis638_final.ipynb#X15sZmlsZQ%3D%3D?line=9'>10</a>\u001b[0m diagnoses_icd\u001b[39m.\u001b[39mto_sql(\u001b[39m'\u001b[39m\u001b[39mDiagnoses_icd\u001b[39m\u001b[39m'\u001b[39m, conn, if_exists\u001b[39m=\u001b[39m\u001b[39m'\u001b[39m\u001b[39mreplace\u001b[39m\u001b[39m'\u001b[39m, index \u001b[39m=\u001b[39m \u001b[39mFalse\u001b[39;00m)\n\u001b[0;32m     <a href='vscode-notebook-cell:/c%3A/Users/12034/Documents/GitHub/Bis638_FinalProject/inna_bis638_final.ipynb#X15sZmlsZQ%3D%3D?line=10'>11</a>\u001b[0m conn\u001b[39m.\u001b[39mcommit()\n\u001b[1;32m---> <a href='vscode-notebook-cell:/c%3A/Users/12034/Documents/GitHub/Bis638_FinalProject/inna_bis638_final.ipynb#X15sZmlsZQ%3D%3D?line=12'>13</a>\u001b[0m prescriptions\u001b[39m.\u001b[39;49mto_sql(\u001b[39m'\u001b[39;49m\u001b[39mPrescriptions\u001b[39;49m\u001b[39m'\u001b[39;49m, conn, if_exists\u001b[39m=\u001b[39;49m\u001b[39m'\u001b[39;49m\u001b[39mreplace\u001b[39;49m\u001b[39m'\u001b[39;49m, index \u001b[39m=\u001b[39;49m \u001b[39mFalse\u001b[39;49;00m)\n\u001b[0;32m     <a href='vscode-notebook-cell:/c%3A/Users/12034/Documents/GitHub/Bis638_FinalProject/inna_bis638_final.ipynb#X15sZmlsZQ%3D%3D?line=13'>14</a>\u001b[0m conn\u001b[39m.\u001b[39mcommit()\n",
      "File \u001b[1;32mc:\\Users\\12034\\AppData\\Local\\Programs\\Python\\Python310\\lib\\site-packages\\pandas\\core\\generic.py:2951\u001b[0m, in \u001b[0;36mNDFrame.to_sql\u001b[1;34m(self, name, con, schema, if_exists, index, index_label, chunksize, dtype, method)\u001b[0m\n\u001b[0;32m   2794\u001b[0m \u001b[39m\"\"\"\u001b[39;00m\n\u001b[0;32m   2795\u001b[0m \u001b[39mWrite records stored in a DataFrame to a SQL database.\u001b[39;00m\n\u001b[0;32m   2796\u001b[0m \n\u001b[1;32m   (...)\u001b[0m\n\u001b[0;32m   2947\u001b[0m \u001b[39m[(1,), (None,), (2,)]\u001b[39;00m\n\u001b[0;32m   2948\u001b[0m \u001b[39m\"\"\"\u001b[39;00m  \u001b[39m# noqa:E501\u001b[39;00m\n\u001b[0;32m   2949\u001b[0m \u001b[39mfrom\u001b[39;00m \u001b[39mpandas\u001b[39;00m\u001b[39m.\u001b[39;00m\u001b[39mio\u001b[39;00m \u001b[39mimport\u001b[39;00m sql\n\u001b[1;32m-> 2951\u001b[0m \u001b[39mreturn\u001b[39;00m sql\u001b[39m.\u001b[39;49mto_sql(\n\u001b[0;32m   2952\u001b[0m     \u001b[39mself\u001b[39;49m,\n\u001b[0;32m   2953\u001b[0m     name,\n\u001b[0;32m   2954\u001b[0m     con,\n\u001b[0;32m   2955\u001b[0m     schema\u001b[39m=\u001b[39;49mschema,\n\u001b[0;32m   2956\u001b[0m     if_exists\u001b[39m=\u001b[39;49mif_exists,\n\u001b[0;32m   2957\u001b[0m     index\u001b[39m=\u001b[39;49mindex,\n\u001b[0;32m   2958\u001b[0m     index_label\u001b[39m=\u001b[39;49mindex_label,\n\u001b[0;32m   2959\u001b[0m     chunksize\u001b[39m=\u001b[39;49mchunksize,\n\u001b[0;32m   2960\u001b[0m     dtype\u001b[39m=\u001b[39;49mdtype,\n\u001b[0;32m   2961\u001b[0m     method\u001b[39m=\u001b[39;49mmethod,\n\u001b[0;32m   2962\u001b[0m )\n",
      "File \u001b[1;32mc:\\Users\\12034\\AppData\\Local\\Programs\\Python\\Python310\\lib\\site-packages\\pandas\\io\\sql.py:697\u001b[0m, in \u001b[0;36mto_sql\u001b[1;34m(frame, name, con, schema, if_exists, index, index_label, chunksize, dtype, method, engine, **engine_kwargs)\u001b[0m\n\u001b[0;32m    692\u001b[0m \u001b[39melif\u001b[39;00m \u001b[39mnot\u001b[39;00m \u001b[39misinstance\u001b[39m(frame, DataFrame):\n\u001b[0;32m    693\u001b[0m     \u001b[39mraise\u001b[39;00m \u001b[39mNotImplementedError\u001b[39;00m(\n\u001b[0;32m    694\u001b[0m         \u001b[39m\"\u001b[39m\u001b[39m'\u001b[39m\u001b[39mframe\u001b[39m\u001b[39m'\u001b[39m\u001b[39m argument should be either a Series or a DataFrame\u001b[39m\u001b[39m\"\u001b[39m\n\u001b[0;32m    695\u001b[0m     )\n\u001b[1;32m--> 697\u001b[0m \u001b[39mreturn\u001b[39;00m pandas_sql\u001b[39m.\u001b[39mto_sql(\n\u001b[0;32m    698\u001b[0m     frame,\n\u001b[0;32m    699\u001b[0m     name,\n\u001b[0;32m    700\u001b[0m     if_exists\u001b[39m=\u001b[39mif_exists,\n\u001b[0;32m    701\u001b[0m     index\u001b[39m=\u001b[39mindex,\n\u001b[0;32m    702\u001b[0m     index_label\u001b[39m=\u001b[39mindex_label,\n\u001b[0;32m    703\u001b[0m     schema\u001b[39m=\u001b[39mschema,\n\u001b[0;32m    704\u001b[0m     chunksize\u001b[39m=\u001b[39mchunksize,\n\u001b[0;32m    705\u001b[0m     dtype\u001b[39m=\u001b[39mdtype,\n\u001b[0;32m    706\u001b[0m     method\u001b[39m=\u001b[39mmethod,\n\u001b[0;32m    707\u001b[0m     engine\u001b[39m=\u001b[39mengine,\n\u001b[0;32m    708\u001b[0m     \u001b[39m*\u001b[39m\u001b[39m*\u001b[39mengine_kwargs,\n\u001b[0;32m    709\u001b[0m )\n",
      "File \u001b[1;32mc:\\Users\\12034\\AppData\\Local\\Programs\\Python\\Python310\\lib\\site-packages\\pandas\\io\\sql.py:2190\u001b[0m, in \u001b[0;36mSQLiteDatabase.to_sql\u001b[1;34m(self, frame, name, if_exists, index, index_label, schema, chunksize, dtype, method, **kwargs)\u001b[0m\n\u001b[0;32m   2180\u001b[0m table \u001b[39m=\u001b[39m SQLiteTable(\n\u001b[0;32m   2181\u001b[0m     name,\n\u001b[0;32m   2182\u001b[0m     \u001b[39mself\u001b[39m,\n\u001b[1;32m   (...)\u001b[0m\n\u001b[0;32m   2187\u001b[0m     dtype\u001b[39m=\u001b[39mdtype,\n\u001b[0;32m   2188\u001b[0m )\n\u001b[0;32m   2189\u001b[0m table\u001b[39m.\u001b[39mcreate()\n\u001b[1;32m-> 2190\u001b[0m \u001b[39mreturn\u001b[39;00m table\u001b[39m.\u001b[39;49minsert(chunksize, method)\n",
      "File \u001b[1;32mc:\\Users\\12034\\AppData\\Local\\Programs\\Python\\Python310\\lib\\site-packages\\pandas\\io\\sql.py:950\u001b[0m, in \u001b[0;36mSQLTable.insert\u001b[1;34m(self, chunksize, method)\u001b[0m\n\u001b[0;32m    947\u001b[0m     \u001b[39mbreak\u001b[39;00m\n\u001b[0;32m    949\u001b[0m chunk_iter \u001b[39m=\u001b[39m \u001b[39mzip\u001b[39m(\u001b[39m*\u001b[39m(arr[start_i:end_i] \u001b[39mfor\u001b[39;00m arr \u001b[39min\u001b[39;00m data_list))\n\u001b[1;32m--> 950\u001b[0m num_inserted \u001b[39m=\u001b[39m exec_insert(conn, keys, chunk_iter)\n\u001b[0;32m    951\u001b[0m \u001b[39mif\u001b[39;00m num_inserted \u001b[39mis\u001b[39;00m \u001b[39mNone\u001b[39;00m:\n\u001b[0;32m    952\u001b[0m     total_inserted \u001b[39m=\u001b[39m \u001b[39mNone\u001b[39;00m\n",
      "File \u001b[1;32mc:\\Users\\12034\\AppData\\Local\\Programs\\Python\\Python310\\lib\\site-packages\\pandas\\io\\sql.py:1896\u001b[0m, in \u001b[0;36mSQLiteTable._execute_insert\u001b[1;34m(self, conn, keys, data_iter)\u001b[0m\n\u001b[0;32m   1894\u001b[0m \u001b[39mdef\u001b[39;00m \u001b[39m_execute_insert\u001b[39m(\u001b[39mself\u001b[39m, conn, keys, data_iter) \u001b[39m-\u001b[39m\u001b[39m>\u001b[39m \u001b[39mint\u001b[39m:\n\u001b[0;32m   1895\u001b[0m     data_list \u001b[39m=\u001b[39m \u001b[39mlist\u001b[39m(data_iter)\n\u001b[1;32m-> 1896\u001b[0m     conn\u001b[39m.\u001b[39;49mexecutemany(\u001b[39mself\u001b[39;49m\u001b[39m.\u001b[39;49minsert_statement(num_rows\u001b[39m=\u001b[39;49m\u001b[39m1\u001b[39;49m), data_list)\n\u001b[0;32m   1897\u001b[0m     \u001b[39mreturn\u001b[39;00m conn\u001b[39m.\u001b[39mrowcount\n",
      "\u001b[1;31mKeyboardInterrupt\u001b[0m: "
     ]
    }
   ],
   "source": [
    "patients.to_sql('Patients', conn, if_exists='replace', index = False)\n",
    "conn.commit()\n",
    "\n",
    "admissions.to_sql('Admissions', conn, if_exists='replace', index = False)\n",
    "conn.commit()\n",
    "\n",
    "d_icd_diagnoses.to_sql('D_icd_diagnoses', conn, if_exists='replace', index = False)\n",
    "conn.commit()\n",
    "\n",
    "diagnoses_icd.to_sql('Diagnoses_icd', conn, if_exists='replace', index = False)\n",
    "conn.commit()\n",
    "\n",
    "prescriptions.to_sql('Prescriptions', conn, if_exists='replace', index = False)\n",
    "conn.commit()"
   ]
  }
 ],
 "metadata": {
  "kernelspec": {
   "display_name": "Python 3.10.4 64-bit",
   "language": "python",
   "name": "python3"
  },
  "language_info": {
   "codemirror_mode": {
    "name": "ipython",
    "version": 3
   },
   "file_extension": ".py",
   "mimetype": "text/x-python",
   "name": "python",
   "nbconvert_exporter": "python",
   "pygments_lexer": "ipython3",
   "version": "3.10.4"
  },
  "orig_nbformat": 4,
  "vscode": {
   "interpreter": {
    "hash": "8b41becdef4899acfbbd1485a22892933050ba852a26e42b5361999e714c45e6"
   }
  }
 },
 "nbformat": 4,
 "nbformat_minor": 2
}
