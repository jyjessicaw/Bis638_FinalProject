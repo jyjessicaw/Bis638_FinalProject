{
 "cells": [
  {
   "cell_type": "code",
   "execution_count": 37,
   "metadata": {},
   "outputs": [],
   "source": [
    "import pandas as pd\n",
    "import sqlite3\n",
    "from sqlite3 import Error\n",
    "import requests\n",
    "from IPython.display import display"
   ]
  },
  {
   "cell_type": "code",
   "execution_count": 38,
   "metadata": {},
   "outputs": [],
   "source": [
    "\n",
    "def get_drug_name(classId, relaSource):\n",
    "    '''Return the correct url for rxcui'''\n",
    "    url_base = 'https://rxnav.nlm.nih.gov/REST/rxclass/classMembers.json?classId='\n",
    "    my_url = 'https://rxnav.nlm.nih.gov/REST/rxclass/classMembers.json?classId=' + classId + '&relaSource=' + relaSource\n",
    "\n",
    "    r = requests.get(url = my_url)\n",
    "    data = r.json()\n",
    "    terms = data['drugMemberGroup']['drugMember']\n",
    "    lst = []\n",
    "\n",
    "    for n, term in enumerate(terms):\n",
    "        rxcui = terms[n]['minConcept']['name']\n",
    "        lst.append(rxcui)\n",
    "    \n",
    "    return lst"
   ]
  },
  {
   "cell_type": "code",
   "execution_count": 39,
   "metadata": {},
   "outputs": [],
   "source": [
    "\n",
    "def get_ndc(rxcui_lst):\n",
    "    '''Return ndc for rxcui'''\n",
    "\n",
    "    for rxcui in rxcui_lst:\n",
    "        url_base = 'https://rxnav.nlm.nih.gov/REST/rxcui/'\n",
    "        my_url = url_base + rxcui + '/ndcs.json'\n",
    "\n",
    "        r = requests.get(url = my_url)\n",
    "        data = r.json() \n",
    "        \n",
    "        terms = data['ndcGroup']['ndcList']\n",
    "        ndc_lst = []\n",
    "\n",
    "        if len(terms) > 0:\n",
    "            terms2 = data['ndcGroup']['ndcList']['ndc']\n",
    "\n",
    "            for term in terms2:\n",
    "                ndc_lst.append(term)\n",
    "    \n",
    "    return ndc_lst\n"
   ]
  },
  {
   "cell_type": "code",
   "execution_count": 40,
   "metadata": {},
   "outputs": [],
   "source": [
    "opiods = get_drug_name('N02A','ATC')\n",
    "benzos = get_drug_name('D001569','DAILYMED')\n",
    "dihyds = get_drug_name('D004095','DAILYMED')"
   ]
  },
  {
   "cell_type": "code",
   "execution_count": null,
   "metadata": {},
   "outputs": [],
   "source": [
    "conn = sqlite3.connect('mimic.db')\n",
    "cursor = conn.cursor()"
   ]
  },
  {
   "cell_type": "markdown",
   "metadata": {},
   "source": [
    "### Creating tables"
   ]
  },
  {
   "cell_type": "code",
   "execution_count": null,
   "metadata": {},
   "outputs": [
    {
     "name": "stdout",
     "output_type": "stream",
     "text": [
      "Table(s) created successfully........\n"
     ]
    }
   ],
   "source": [
    "cursor.execute(\"DROP TABLE IF EXISTS Patients\")\n",
    "cursor.execute(\"DROP TABLE IF EXISTS Admissions\")\n",
    "cursor.execute(\"DROP TABLE IF EXISTS Diagnoses_icd\")\n",
    "cursor.execute(\"DROP TABLE IF EXISTS D_icd_diagnoses\")\n",
    "cursor.execute(\"DROP TABLE IF EXISTS Prescriptions\")\n",
    "\n",
    "\n",
    "sql ='''CREATE TABLE Patients (\n",
    "    row_id int  NOT NULL,\n",
    "    subject_id int  NOT NULL,\n",
    "    gender varchar(5)  NOT NULL,\n",
    "    dob datetime  NOT NULL,\n",
    "    dod datetime  NOT NULL,\n",
    "    dod_hosp datetime  NULL,\n",
    "    dod_ssn datetime  NULL,\n",
    "    expire_flag varchar(5)  NOT NULL,\n",
    "    PRIMARY KEY (subject_id)\n",
    "  );'''\n",
    "\n",
    "cursor.execute(sql)\n",
    "\n",
    "\n",
    "sql ='''CREATE TABLE Admissions (\n",
    "    row_id int  NOT NULL,\n",
    "    subject_id int  NOT NULL,\n",
    "    hadm_id int  NOT NULL,\n",
    "    admittime datetime  NOT NULL,\n",
    "    dischtime datetime  NOT NULL,\n",
    "    deathtime datetime   NULL,\n",
    "    admission_type varchar(50)  NOT NULL,\n",
    "    admission_location varchar(50)  NOT NULL,\n",
    "    discharge_location varchar(50)  NOT NULL,\n",
    "    insurance varchar(255)  NOT NULL,\n",
    "    language varchar(10)   NULL,\n",
    "    religion varchar(50)   NULL,\n",
    "    marital_status varchar(50)   NULL,\n",
    "    ethnicity varchar(200)  NOT NULL,\n",
    "    edregtime datetime   NULL,\n",
    "    edouttime datetime   NULL,\n",
    "    diagnosis varchar(300)  NOT NULL,\n",
    "    hospital_expire_flag int  NOT NULL,\n",
    "    has_chartevents_data int  NOT NULL,\n",
    "    PRIMARY KEY (hadm_id),\n",
    "    FOREIGN KEY (subject_id) REFERENCES Patients(subject_id)\n",
    "  );'''\n",
    "\n",
    "cursor.execute(sql)\n",
    "\n",
    "sql ='''CREATE TABLE D_icd_diagnoses (\n",
    "    row_id int  NOT NULL,\n",
    "    icd9_code varchar(10) NOT NULL,\n",
    "    short_title varchar(50) NOT NULL,\n",
    "    long_title varchar(300) NOT NULL,\n",
    "    PRIMARY KEY (icd9_code) \n",
    "  );'''\n",
    "cursor.execute(sql)\n",
    "\n",
    "\n",
    "sql ='''CREATE TABLE Diagnoses_icd (\n",
    "    row_id int  NOT NULL,\n",
    "    subject_id int  NOT NULL,\n",
    "    hadm_id int  NOT NULL,\n",
    "     seq_num int NOT NULL,\n",
    "     icd9_code varchar(10) NOT NULL,\n",
    "    PRIMARY KEY (hadm_id),\n",
    "    FOREIGN KEY (icd9_code) REFERENCES D_icd_diagnoses(icd9_code)\n",
    "  );'''\n",
    "cursor.execute(sql)\n",
    "\n",
    "\n",
    " #insert code to create Prescriptions table\n",
    "sql ='''CREATE TABLE Prescriptions (\n",
    "    row_id int  NOT NULL,\n",
    "    subject_id int  NOT NULL,\n",
    "    hadm_id int  NOT NULL,\n",
    "    startdate datetime NULL,\n",
    "    enddate datetime NULL,\n",
    "    drug_type varchar(50) NULL,\n",
    "    drug varchar(300) NULL,\n",
    "    drug_name_poe varchar(300) NULL,\n",
    "    drug_name_generic varchar(300) NULL,\n",
    "    formulary_drug_cd varchar(300) NULL,\n",
    "    gsn int NULL,\n",
    "    ndc real NULL,\n",
    "    prod_strength varchar(300) NULL,\n",
    "    dose_val_rx varchar(50) NULL,\n",
    "    dose_unit_rx varchar(50) NULL,\n",
    "    form_val_disp varchar(50) NULL,\n",
    "    form_unit_disp varchar(50) NULL,\n",
    "    route varchar(50) NULL,\n",
    "    FOREIGN KEY (hadm_id) REFERENCES Diagnoses_icd(hadm_id),\n",
    "    FOREIGN KEY (subject_id) REFERENCES Patients(subject_id)\n",
    "  );'''\n",
    "cursor.execute(sql)\n",
    "\n",
    "\n",
    "\n",
    "print(\"Table(s) created successfully........\")\n",
    "conn.commit()"
   ]
  },
  {
   "cell_type": "markdown",
   "metadata": {},
   "source": [
    "### Data Cleaning "
   ]
  },
  {
   "cell_type": "code",
   "execution_count": null,
   "metadata": {},
   "outputs": [],
   "source": [
    "patients = pd.read_csv('../../mimic-iii-clinical-database-1.4/PATIENTS.csv.gz', compression='gzip')"
   ]
  },
  {
   "cell_type": "code",
   "execution_count": null,
   "metadata": {},
   "outputs": [],
   "source": [
    "admissions = pd.read_csv('../../mimic-iii-clinical-database-1.4/ADMISSIONS.csv.gz', compression='gzip')"
   ]
  },
  {
   "cell_type": "code",
   "execution_count": null,
   "metadata": {},
   "outputs": [],
   "source": [
    "d_icd_diagnoses = pd.read_csv('../../mimic-iii-clinical-database-1.4/D_ICD_DIAGNOSES.csv.gz', compression='gzip')"
   ]
  },
  {
   "cell_type": "code",
   "execution_count": null,
   "metadata": {},
   "outputs": [],
   "source": [
    "diagnoses_icd = pd.read_csv('../../mimic-iii-clinical-database-1.4/DIAGNOSES_ICD.csv.gz', compression='gzip')"
   ]
  },
  {
   "cell_type": "code",
   "execution_count": null,
   "metadata": {},
   "outputs": [],
   "source": [
    "prescriptions = pd.read_csv('../../mimic-iii-clinical-database-1.4/PRESCRIPTIONS.csv.gz', compression='gzip', low_memory=False)"
   ]
  },
  {
   "cell_type": "code",
   "execution_count": null,
   "metadata": {},
   "outputs": [
    {
     "data": {
      "text/html": [
       "<div>\n",
       "<style scoped>\n",
       "    .dataframe tbody tr th:only-of-type {\n",
       "        vertical-align: middle;\n",
       "    }\n",
       "\n",
       "    .dataframe tbody tr th {\n",
       "        vertical-align: top;\n",
       "    }\n",
       "\n",
       "    .dataframe thead th {\n",
       "        text-align: right;\n",
       "    }\n",
       "</style>\n",
       "<table border=\"1\" class=\"dataframe\">\n",
       "  <thead>\n",
       "    <tr style=\"text-align: right;\">\n",
       "      <th></th>\n",
       "      <th>ROW_ID</th>\n",
       "      <th>SUBJECT_ID</th>\n",
       "      <th>HADM_ID</th>\n",
       "      <th>ICUSTAY_ID</th>\n",
       "      <th>STARTDATE</th>\n",
       "      <th>ENDDATE</th>\n",
       "      <th>DRUG_TYPE</th>\n",
       "      <th>DRUG</th>\n",
       "      <th>DRUG_NAME_POE</th>\n",
       "      <th>DRUG_NAME_GENERIC</th>\n",
       "      <th>FORMULARY_DRUG_CD</th>\n",
       "      <th>GSN</th>\n",
       "      <th>NDC</th>\n",
       "      <th>PROD_STRENGTH</th>\n",
       "      <th>DOSE_VAL_RX</th>\n",
       "      <th>DOSE_UNIT_RX</th>\n",
       "      <th>FORM_VAL_DISP</th>\n",
       "      <th>FORM_UNIT_DISP</th>\n",
       "      <th>ROUTE</th>\n",
       "    </tr>\n",
       "  </thead>\n",
       "  <tbody>\n",
       "    <tr>\n",
       "      <th>0</th>\n",
       "      <td>2214776</td>\n",
       "      <td>6</td>\n",
       "      <td>107064</td>\n",
       "      <td>NaN</td>\n",
       "      <td>2175-06-11 00:00:00</td>\n",
       "      <td>2175-06-12 00:00:00</td>\n",
       "      <td>MAIN</td>\n",
       "      <td>Tacrolimus</td>\n",
       "      <td>Tacrolimus</td>\n",
       "      <td>Tacrolimus</td>\n",
       "      <td>TACR1</td>\n",
       "      <td>021796</td>\n",
       "      <td>469061711.0</td>\n",
       "      <td>1mg Capsule</td>\n",
       "      <td>2</td>\n",
       "      <td>mg</td>\n",
       "      <td>2</td>\n",
       "      <td>CAP</td>\n",
       "      <td>PO</td>\n",
       "    </tr>\n",
       "    <tr>\n",
       "      <th>1</th>\n",
       "      <td>2214775</td>\n",
       "      <td>6</td>\n",
       "      <td>107064</td>\n",
       "      <td>NaN</td>\n",
       "      <td>2175-06-11 00:00:00</td>\n",
       "      <td>2175-06-12 00:00:00</td>\n",
       "      <td>MAIN</td>\n",
       "      <td>Warfarin</td>\n",
       "      <td>Warfarin</td>\n",
       "      <td>Warfarin</td>\n",
       "      <td>WARF5</td>\n",
       "      <td>006562</td>\n",
       "      <td>56017275.0</td>\n",
       "      <td>5mg Tablet</td>\n",
       "      <td>5</td>\n",
       "      <td>mg</td>\n",
       "      <td>1</td>\n",
       "      <td>TAB</td>\n",
       "      <td>PO</td>\n",
       "    </tr>\n",
       "    <tr>\n",
       "      <th>2</th>\n",
       "      <td>2215524</td>\n",
       "      <td>6</td>\n",
       "      <td>107064</td>\n",
       "      <td>NaN</td>\n",
       "      <td>2175-06-11 00:00:00</td>\n",
       "      <td>2175-06-12 00:00:00</td>\n",
       "      <td>MAIN</td>\n",
       "      <td>Heparin Sodium</td>\n",
       "      <td>NaN</td>\n",
       "      <td>NaN</td>\n",
       "      <td>HEPAPREMIX</td>\n",
       "      <td>006522</td>\n",
       "      <td>338055002.0</td>\n",
       "      <td>25,000 unit Premix Bag</td>\n",
       "      <td>25,000</td>\n",
       "      <td>UNIT</td>\n",
       "      <td>1</td>\n",
       "      <td>BAG</td>\n",
       "      <td>IV</td>\n",
       "    </tr>\n",
       "    <tr>\n",
       "      <th>3</th>\n",
       "      <td>2216265</td>\n",
       "      <td>6</td>\n",
       "      <td>107064</td>\n",
       "      <td>NaN</td>\n",
       "      <td>2175-06-11 00:00:00</td>\n",
       "      <td>2175-06-12 00:00:00</td>\n",
       "      <td>BASE</td>\n",
       "      <td>D5W</td>\n",
       "      <td>NaN</td>\n",
       "      <td>NaN</td>\n",
       "      <td>HEPBASE</td>\n",
       "      <td>NaN</td>\n",
       "      <td>0.0</td>\n",
       "      <td>HEPARIN BASE</td>\n",
       "      <td>250</td>\n",
       "      <td>ml</td>\n",
       "      <td>250</td>\n",
       "      <td>ml</td>\n",
       "      <td>IV</td>\n",
       "    </tr>\n",
       "    <tr>\n",
       "      <th>4</th>\n",
       "      <td>2214773</td>\n",
       "      <td>6</td>\n",
       "      <td>107064</td>\n",
       "      <td>NaN</td>\n",
       "      <td>2175-06-11 00:00:00</td>\n",
       "      <td>2175-06-12 00:00:00</td>\n",
       "      <td>MAIN</td>\n",
       "      <td>Furosemide</td>\n",
       "      <td>Furosemide</td>\n",
       "      <td>Furosemide</td>\n",
       "      <td>FURO20</td>\n",
       "      <td>008208</td>\n",
       "      <td>54829725.0</td>\n",
       "      <td>20mg Tablet</td>\n",
       "      <td>20</td>\n",
       "      <td>mg</td>\n",
       "      <td>1</td>\n",
       "      <td>TAB</td>\n",
       "      <td>PO</td>\n",
       "    </tr>\n",
       "  </tbody>\n",
       "</table>\n",
       "</div>"
      ],
      "text/plain": [
       "    ROW_ID  SUBJECT_ID  HADM_ID  ICUSTAY_ID            STARTDATE  \\\n",
       "0  2214776           6   107064         NaN  2175-06-11 00:00:00   \n",
       "1  2214775           6   107064         NaN  2175-06-11 00:00:00   \n",
       "2  2215524           6   107064         NaN  2175-06-11 00:00:00   \n",
       "3  2216265           6   107064         NaN  2175-06-11 00:00:00   \n",
       "4  2214773           6   107064         NaN  2175-06-11 00:00:00   \n",
       "\n",
       "               ENDDATE DRUG_TYPE            DRUG DRUG_NAME_POE  \\\n",
       "0  2175-06-12 00:00:00      MAIN      Tacrolimus    Tacrolimus   \n",
       "1  2175-06-12 00:00:00      MAIN        Warfarin      Warfarin   \n",
       "2  2175-06-12 00:00:00      MAIN  Heparin Sodium           NaN   \n",
       "3  2175-06-12 00:00:00      BASE             D5W           NaN   \n",
       "4  2175-06-12 00:00:00      MAIN      Furosemide    Furosemide   \n",
       "\n",
       "  DRUG_NAME_GENERIC FORMULARY_DRUG_CD     GSN          NDC  \\\n",
       "0        Tacrolimus             TACR1  021796  469061711.0   \n",
       "1          Warfarin             WARF5  006562   56017275.0   \n",
       "2               NaN        HEPAPREMIX  006522  338055002.0   \n",
       "3               NaN           HEPBASE     NaN          0.0   \n",
       "4        Furosemide            FURO20  008208   54829725.0   \n",
       "\n",
       "            PROD_STRENGTH DOSE_VAL_RX DOSE_UNIT_RX FORM_VAL_DISP  \\\n",
       "0             1mg Capsule           2           mg             2   \n",
       "1              5mg Tablet           5           mg             1   \n",
       "2  25,000 unit Premix Bag      25,000         UNIT             1   \n",
       "3            HEPARIN BASE         250           ml           250   \n",
       "4             20mg Tablet          20           mg             1   \n",
       "\n",
       "  FORM_UNIT_DISP ROUTE  \n",
       "0            CAP    PO  \n",
       "1            TAB    PO  \n",
       "2            BAG    IV  \n",
       "3             ml    IV  \n",
       "4            TAB    PO  "
      ]
     },
     "execution_count": 14,
     "metadata": {},
     "output_type": "execute_result"
    }
   ],
   "source": [
    "prescriptions.head()"
   ]
  },
  {
   "cell_type": "code",
   "execution_count": 53,
   "metadata": {},
   "outputs": [],
   "source": [
    "def find_drug(drug):\n",
    "    return prescriptions.DRUG[prescriptions.DRUG.str.contains(drug, case=False, regex=True)].value_counts().to_frame()"
   ]
  },
  {
   "cell_type": "code",
   "execution_count": null,
   "metadata": {},
   "outputs": [],
   "source": [
    "def clean_drug(drug):\n",
    "    return prescriptions.DRUG[prescriptions.DRUG.str.replace(drug, drug, case=False, regex=True)]"
   ]
  },
  {
   "cell_type": "code",
   "execution_count": 48,
   "metadata": {},
   "outputs": [
    {
     "data": {
      "text/plain": [
       "['naloxone / tilidine',\n",
       " 'tilidine',\n",
       " 'tramadol',\n",
       " 'aspirin / codeine',\n",
       " 'naloxone / oxycodone',\n",
       " 'naltrexone / oxycodone',\n",
       " 'buprenorphine',\n",
       " 'butorphanol',\n",
       " 'dezocine',\n",
       " 'dihydrocodeine',\n",
       " 'oliceridine',\n",
       " 'celecoxib / tramadol',\n",
       " 'dextromoramide',\n",
       " 'hydromorphone',\n",
       " 'acetaminophen / tramadol',\n",
       " 'fentanyl',\n",
       " 'ibuprofen / oxycodone',\n",
       " 'meperidine',\n",
       " 'meptazinol',\n",
       " 'morphine',\n",
       " 'codeine / ibuprofen',\n",
       " 'nalbuphine',\n",
       " 'opium',\n",
       " 'oxycodone',\n",
       " 'oxymorphone',\n",
       " 'tapentadol',\n",
       " 'papaveretum',\n",
       " 'pentazocine',\n",
       " 'phenazocine',\n",
       " 'acetaminophen / codeine',\n",
       " 'pirinitramide',\n",
       " 'propoxyphene']"
      ]
     },
     "execution_count": 48,
     "metadata": {},
     "output_type": "execute_result"
    }
   ],
   "source": [
    "opiods"
   ]
  },
  {
   "cell_type": "code",
   "execution_count": 55,
   "metadata": {},
   "outputs": [
    {
     "data": {
      "text/html": [
       "<div>\n",
       "<style scoped>\n",
       "    .dataframe tbody tr th:only-of-type {\n",
       "        vertical-align: middle;\n",
       "    }\n",
       "\n",
       "    .dataframe tbody tr th {\n",
       "        vertical-align: top;\n",
       "    }\n",
       "\n",
       "    .dataframe thead th {\n",
       "        text-align: right;\n",
       "    }\n",
       "</style>\n",
       "<table border=\"1\" class=\"dataframe\">\n",
       "  <thead>\n",
       "    <tr style=\"text-align: right;\">\n",
       "      <th></th>\n",
       "      <th>DRUG</th>\n",
       "    </tr>\n",
       "  </thead>\n",
       "  <tbody>\n",
       "    <tr>\n",
       "      <th>Propoxyphene Nap.-Apap (N-100)</th>\n",
       "      <td>493</td>\n",
       "    </tr>\n",
       "    <tr>\n",
       "      <th>Propoxyphene HCl</th>\n",
       "      <td>10</td>\n",
       "    </tr>\n",
       "    <tr>\n",
       "      <th>Propoxyphene</th>\n",
       "      <td>2</td>\n",
       "    </tr>\n",
       "  </tbody>\n",
       "</table>\n",
       "</div>"
      ],
      "text/plain": [
       "                                DRUG\n",
       "Propoxyphene Nap.-Apap (N-100)   493\n",
       "Propoxyphene HCl                  10\n",
       "Propoxyphene                       2"
      ]
     },
     "execution_count": 55,
     "metadata": {},
     "output_type": "execute_result"
    }
   ],
   "source": [
    "find_drug('propoxyphene')"
   ]
  },
  {
   "cell_type": "code",
   "execution_count": null,
   "metadata": {},
   "outputs": [
    {
     "data": {
      "text/plain": [
       "Midazolam           13652\n",
       "Midazolam HCl        7902\n",
       "NEO*PO*Midazolam        6\n",
       "MIDAZOLAM               3\n",
       "Name: DRUG, dtype: int64"
      ]
     },
     "execution_count": 17,
     "metadata": {},
     "output_type": "execute_result"
    }
   ],
   "source": [
    "\n",
    "find_drug('midazolam')"
   ]
  },
  {
   "cell_type": "code",
   "execution_count": null,
   "metadata": {},
   "outputs": [
    {
     "data": {
      "text/plain": [
       "21563"
      ]
     },
     "execution_count": 18,
     "metadata": {},
     "output_type": "execute_result"
    }
   ],
   "source": [
    "13652 + 7902 + 6 + 3"
   ]
  },
  {
   "cell_type": "code",
   "execution_count": null,
   "metadata": {},
   "outputs": [
    {
     "data": {
      "text/plain": [
       "Lorazepam                            55352\n",
       "NEO*PO*Lorazepam Oral Concentrate       20\n",
       "Lorazepam 2mg syringe                   14\n",
       "LORAZEPAM                                8\n",
       "Lorazepam 2mg Syringe                    2\n",
       "Lorazepam 2mg syringe                    1\n",
       "Lorazepam 2 mg syringe                   1\n",
       "Lorazepam 2mg syringa                    1\n",
       "Lorazepam 2 mg syringe                   1\n",
       "Name: DRUG, dtype: int64"
      ]
     },
     "execution_count": 19,
     "metadata": {},
     "output_type": "execute_result"
    }
   ],
   "source": [
    "find_drug('lorazepam')"
   ]
  },
  {
   "cell_type": "code",
   "execution_count": null,
   "metadata": {},
   "outputs": [
    {
     "data": {
      "text/plain": [
       "Diazepam    10399\n",
       "Name: DRUG, dtype: int64"
      ]
     },
     "execution_count": 20,
     "metadata": {},
     "output_type": "execute_result"
    }
   ],
   "source": [
    "find_drug('diazepam')"
   ]
  },
  {
   "cell_type": "code",
   "execution_count": null,
   "metadata": {},
   "outputs": [
    {
     "data": {
      "text/plain": [
       "Propofol                34462\n",
       "Propofol (Generic)       3715\n",
       "PROPOFOL                    5\n",
       "Propofol (Diprivan)         3\n",
       "PROPOFOL (*GENERIC*)        2\n",
       "Propofol Diprivan           1\n",
       "Name: DRUG, dtype: int64"
      ]
     },
     "execution_count": 21,
     "metadata": {},
     "output_type": "execute_result"
    }
   ],
   "source": [
    "find_drug('propofol')"
   ]
  },
  {
   "cell_type": "code",
   "execution_count": null,
   "metadata": {},
   "outputs": [
    {
     "data": {
      "text/plain": [
       "Dexmedetomidine        2258\n",
       "Dexmedetomidine HCl     943\n",
       "Dexmedetomidine Hcl      16\n",
       "Name: DRUG, dtype: int64"
      ]
     },
     "execution_count": 22,
     "metadata": {},
     "output_type": "execute_result"
    }
   ],
   "source": [
    "find_drug('dexmedetomidine')"
   ]
  },
  {
   "cell_type": "code",
   "execution_count": null,
   "metadata": {},
   "outputs": [
    {
     "data": {
      "text/plain": [
       "Fentanyl Citrate         31669\n",
       "Fentanyl Patch            3233\n",
       "NEO*IV*Fentanyl            424\n",
       "Fentanyl PCA               348\n",
       "Fentanyl                    48\n",
       "FENTANYL                     9\n",
       "Fentanyl                     1\n",
       "fentaNYL                     1\n",
       "fentaNYL citrate (PF)        1\n",
       "Name: DRUG, dtype: int64"
      ]
     },
     "execution_count": 23,
     "metadata": {},
     "output_type": "execute_result"
    }
   ],
   "source": [
    "find_drug('fentanyl')"
   ]
  },
  {
   "cell_type": "code",
   "execution_count": null,
   "metadata": {},
   "outputs": [
    {
     "data": {
      "text/plain": [
       "Morphine Sulfate                               62134\n",
       "Morphine Sulfate IR                             1754\n",
       "Morphine SR (MS Contin)                         1328\n",
       "Morphine Sulfate (Oral Soln.)                   1032\n",
       "Morphine Sulfate (Concentrated Oral Soln)        829\n",
       "Morphine Sulfate SR                              608\n",
       "NEO*IV*Morphine Sulfate                           90\n",
       "NEO*PO*Morphine                                   70\n",
       "Morphine Sulfate                                  25\n",
       "Morphine (PF)                                     25\n",
       "Morphine                                          21\n",
       "Morphine Infusion ? Comfort Care Guidelines       18\n",
       "Morphine                                          18\n",
       "Morphine PCA                                      17\n",
       "Morphine Sulfate (Syringe)                        13\n",
       "Morphine Sulfate PF                               13\n",
       "Morphine Sulfate (2-4mg)                           8\n",
       "Morphine Sulfate (Immediate Release)               7\n",
       "Morphine Sulfate For Inhalation                    7\n",
       "Morphine Sulfate (PF)                              5\n",
       "Morphine Sulfate (1-5mg)                           3\n",
       "Morphine Sulfate (2-6mg)                           3\n",
       "morphine                                           3\n",
       "Morphine Sulfate (4-8mg)                           2\n",
       "MORPHINE SULFATE                                   2\n",
       "MORPHINE                                           1\n",
       "Morphine Su                                        1\n",
       "Morphine Sulfate (0.5-4mg)                         1\n",
       "Morphine Sulfate (1-10mg)                          1\n",
       "Morphine Sulfa                                     1\n",
       "Morphine Concentrate                               1\n",
       "Morphine Sulfat                                    1\n",
       "Morphine Sulfate (2-5mg)                           1\n",
       "Morphine S                                         1\n",
       "Morphine Sul                                       1\n",
       "Name: DRUG, dtype: int64"
      ]
     },
     "execution_count": 24,
     "metadata": {},
     "output_type": "execute_result"
    }
   ],
   "source": [
    "find_drug('morphine')"
   ]
  },
  {
   "cell_type": "code",
   "execution_count": null,
   "metadata": {},
   "outputs": [
    {
     "data": {
      "text/plain": [
       "HYDROmorphone (Dilaudid)                            37673\n",
       "Hydromorphone                                       11898\n",
       "HYDROmorphone                                        1399\n",
       "HYDROmorphone P.F.                                    938\n",
       "Hydromorphone P.F.                                    828\n",
       "HYDROmorphone-HP                                      189\n",
       "Hydromorphone-HP                                      185\n",
       "Hydromorphone HCl                                      27\n",
       "Hydromorphone-hp                                       25\n",
       "Hydromorphone PCA                                      17\n",
       "HYDROmorphone PCA                                       8\n",
       "Hydromorphone Hcl                                       3\n",
       "HYDROmorphone PCA (Dilaudid)                            3\n",
       "hydromorphone                                           2\n",
       "Hydromorphone (Rectal)                                  2\n",
       "HYDROmorphone Solution                                  2\n",
       "HYDROmorphone Infusion ? Comfort Care Guidelines        1\n",
       "HYDROmorphone                                           1\n",
       "HYDROMORPHONE                                           1\n",
       "Name: DRUG, dtype: int64"
      ]
     },
     "execution_count": 25,
     "metadata": {},
     "output_type": "execute_result"
    }
   ],
   "source": [
    "find_drug('Hydromorphone')"
   ]
  },
  {
   "cell_type": "code",
   "execution_count": null,
   "metadata": {},
   "outputs": [],
   "source": []
  },
  {
   "cell_type": "code",
   "execution_count": null,
   "metadata": {},
   "outputs": [],
   "source": []
  },
  {
   "cell_type": "code",
   "execution_count": null,
   "metadata": {},
   "outputs": [],
   "source": []
  },
  {
   "cell_type": "code",
   "execution_count": null,
   "metadata": {},
   "outputs": [],
   "source": []
  },
  {
   "cell_type": "markdown",
   "metadata": {},
   "source": [
    "###  Loading Cleaned Data into Database"
   ]
  },
  {
   "cell_type": "code",
   "execution_count": null,
   "metadata": {},
   "outputs": [],
   "source": [
    "patients.to_sql('Patients', conn, if_exists='replace', index = False)\n",
    "conn.commit()\n",
    "\n",
    "admissions.to_sql('Admissions', conn, if_exists='replace', index = False)\n",
    "conn.commit()\n",
    "\n",
    "d_icd_diagnoses.to_sql('D_icd_diagnoses', conn, if_exists='replace', index = False)\n",
    "conn.commit()\n",
    "\n",
    "diagnoses_icd.to_sql('Diagnoses_icd', conn, if_exists='replace', index = False)\n",
    "conn.commit()\n",
    "\n",
    "prescriptions.to_sql('Prescriptions', conn, if_exists='replace', index = False)\n",
    "conn.commit()"
   ]
  }
 ],
 "metadata": {
  "kernelspec": {
   "display_name": "Python 3.10.4 64-bit",
   "language": "python",
   "name": "python3"
  },
  "language_info": {
   "codemirror_mode": {
    "name": "ipython",
    "version": 3
   },
   "file_extension": ".py",
   "mimetype": "text/x-python",
   "name": "python",
   "nbconvert_exporter": "python",
   "pygments_lexer": "ipython3",
   "version": "3.10.4"
  },
  "orig_nbformat": 4,
  "vscode": {
   "interpreter": {
    "hash": "8b41becdef4899acfbbd1485a22892933050ba852a26e42b5361999e714c45e6"
   }
  }
 },
 "nbformat": 4,
 "nbformat_minor": 2
}
